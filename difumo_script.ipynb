{
 "cells": [
  {
   "cell_type": "code",
   "execution_count": 1,
   "id": "4c93b677-21ad-4fc3-ae41-af49778608d3",
   "metadata": {},
   "outputs": [],
   "source": [
    "from tqdm.notebook import tqdm\n",
    "from fetcher import fetch_difumo\n",
    "import numpy as np\n",
    "from nilearn.maskers import NiftiMapsMasker\n",
    "import dask.array as da\n",
    "from dask import delayed\n",
    "import nibabel as nib\n",
    "from dask.distributed import Client, LocalCluster"
   ]
  },
  {
   "cell_type": "code",
   "execution_count": 2,
   "id": "b425ad21-7b6f-4e13-973c-f8e87202cee3",
   "metadata": {
    "tags": []
   },
   "outputs": [],
   "source": [
    "difumo_dim = 64\n",
    "maps_img = fetch_difumo(dimension=difumo_dim).maps"
   ]
  },
  {
   "cell_type": "code",
   "execution_count": 3,
   "id": "0898920f-dae0-4f28-9297-dd4fc2eb0ace",
   "metadata": {
    "collapsed": true,
    "jupyter": {
     "outputs_hidden": true
    },
    "tags": []
   },
   "outputs": [
    {
     "name": "stdout",
     "output_type": "stream",
     "text": [
      "Error for 9\n",
      "Error for 10\n",
      "Error for 11\n",
      "Error for 12\n",
      "Error for 13\n",
      "Error for 14\n",
      "Error for 15\n",
      "Error for 16\n",
      "Error for 17\n",
      "Error for 18\n",
      "Error for 19\n",
      "Error for 20\n",
      "Error for 21\n",
      "Error for 22\n",
      "Error for 23\n",
      "Error for 24\n",
      "Error for 25\n",
      "Error for 26\n",
      "Error for 27\n",
      "Error for 28\n",
      "Error for 29\n",
      "Error for 30\n",
      "Error for 31\n",
      "Error for 32\n",
      "Error for 33\n",
      "Error for 34\n",
      "Error for 35\n",
      "Error for 36\n",
      "Error for 37\n",
      "Error for 38\n",
      "Error for 39\n",
      "Error for 40\n",
      "Error for 41\n",
      "Error for 42\n",
      "Error for 43\n",
      "Error for 44\n",
      "Error for 45\n",
      "Error for 46\n",
      "Error for 47\n",
      "Error for 48\n",
      "Error for 49\n",
      "Error for 50\n",
      "Error for 51\n",
      "Error for 52\n",
      "Error for 53\n",
      "Error for 54\n",
      "Error for 55\n",
      "Error for 56\n",
      "Error for 57\n",
      "Error for 58\n",
      "Error for 59\n",
      "Error for 60\n",
      "Error for 61\n",
      "Error for 62\n",
      "Error for 63\n",
      "Error for 64\n",
      "Error for 65\n",
      "Error for 66\n",
      "Error for 67\n",
      "Error for 68\n",
      "Error for 69\n",
      "Error for 70\n",
      "Error for 71\n",
      "Error for 72\n",
      "Error for 73\n",
      "Error for 74\n",
      "Error for 75\n",
      "Error for 76\n",
      "Error for 77\n",
      "Error for 78\n",
      "Error for 79\n",
      "Error for 80\n",
      "Error for 81\n",
      "Error for 82\n",
      "Error for 83\n",
      "Error for 84\n",
      "Error for 85\n",
      "Error for 86\n",
      "Error for 87\n",
      "Error for 88\n",
      "Error for 89\n",
      "Error for 90\n",
      "Error for 91\n",
      "Error for 92\n",
      "Error for 93\n",
      "Error for 94\n",
      "Error for 95\n",
      "Error for 96\n",
      "Error for 97\n",
      "Error for 98\n",
      "Error for 99\n",
      "Error for 100\n"
     ]
    }
   ],
   "source": [
    "subjects_fmri = []\n",
    "\n",
    "for sub in range(1, 101):\n",
    "    try: \n",
    "        subjects_fmri.append(nib.load(f'/home/jovyan/shared/ds003097/derivatives/fmriprep/sub-{sub:04}/func/sub-{sub:04}_task-moviewatching_space-MNI152NLin2009cAsym_desc-preproc_bold.nii.gz'))\n",
    "    except:\n",
    "        print(f'Error for {sub}')\n"
   ]
  },
  {
   "cell_type": "code",
   "execution_count": 5,
   "id": "688e514b-c9d7-4226-a3d6-b261f5d92a54",
   "metadata": {},
   "outputs": [
    {
     "data": {
      "text/plain": [
       "[<nibabel.nifti1.Nifti1Image at 0x7f1213e5d5d0>,\n",
       " <nibabel.nifti1.Nifti1Image at 0x7f1213e5d650>,\n",
       " <nibabel.nifti1.Nifti1Image at 0x7f1213e5d2d0>,\n",
       " <nibabel.nifti1.Nifti1Image at 0x7f1213e5d710>,\n",
       " <nibabel.nifti1.Nifti1Image at 0x7f1213e5d490>,\n",
       " <nibabel.nifti1.Nifti1Image at 0x7f1213e5db10>,\n",
       " <nibabel.nifti1.Nifti1Image at 0x7f1213e5dd50>,\n",
       " <nibabel.nifti1.Nifti1Image at 0x7f1213e5ded0>]"
      ]
     },
     "execution_count": 5,
     "metadata": {},
     "output_type": "execute_result"
    }
   ],
   "source": [
    "subjects_fmri"
   ]
  },
  {
   "cell_type": "code",
   "execution_count": 6,
   "id": "f300bfd0-e30f-42c0-96ba-ea5c72388739",
   "metadata": {},
   "outputs": [
    {
     "data": {
      "text/plain": [
       "8"
      ]
     },
     "execution_count": 6,
     "metadata": {},
     "output_type": "execute_result"
    }
   ],
   "source": [
    "num_subjects_data = len(subjects_fmri)\n",
    "num_subjects_data"
   ]
  },
  {
   "cell_type": "code",
   "execution_count": 9,
   "id": "e4f7c511-69c0-422b-a2db-a11566f71f98",
   "metadata": {},
   "outputs": [],
   "source": [
    "def no_parallel():\n",
    "    num_frames = 100\n",
    "    signals_list = []\n",
    "    \n",
    "    maps_masker = NiftiMapsMasker(maps_img=maps_img, verbose=0, standardize=True)\n",
    "    for time in tqdm(range(num_frames), desc='Time'):\n",
    "\n",
    "        all_subs_time = []\n",
    "        for sub_fmri in subjects_fmri:\n",
    "            time_slice = sub_fmri.slicer[:, :, :, time]\n",
    "            all_subs_time.append(time_slice)\n",
    "\n",
    "        signals = maps_masker.fit_transform(all_subs_time)\n",
    "        signals_list.append(signals)\n",
    "\n",
    "    all_signals = np.array(signals_list)\n",
    "    return all_signals\n"
   ]
  },
  {
   "cell_type": "code",
   "execution_count": null,
   "id": "c8765244-373e-4fff-b376-66b81565665e",
   "metadata": {},
   "outputs": [
    {
     "data": {
      "application/vnd.jupyter.widget-view+json": {
       "model_id": "f94a043b3f7240748928d67d22d31ae5",
       "version_major": 2,
       "version_minor": 0
      },
      "text/plain": [
       "Time:   0%|          | 0/100 [00:00<?, ?it/s]"
      ]
     },
     "metadata": {},
     "output_type": "display_data"
    }
   ],
   "source": [
    "no_parallel()"
   ]
  },
  {
   "cell_type": "code",
   "execution_count": null,
   "id": "54482a15-c5ed-4062-888c-7b532e2566ba",
   "metadata": {},
   "outputs": [],
   "source": []
  },
  {
   "cell_type": "code",
   "execution_count": null,
   "id": "e0a88b3c-cade-4a34-ab9f-d8ca0e4118b1",
   "metadata": {},
   "outputs": [],
   "source": [
    "def parallel_work():\n",
    "    cluster = LocalCluster(n_workers=2, )\n",
    "    client = Client(cluster)\n",
    "    \n",
    "    num_frames = 290\n",
    "    signals_list_delayed = []\n",
    "\n",
    "    def process_time_slice(frame_num):\n",
    "        maps_masker = NiftiMapsMasker(maps_img=maps_img, verbose=0, standardize=True)\n",
    "        all_subs_frame = []\n",
    "        for sub_fmri in subjects_fmri:\n",
    "            time_slice = sub_fmri.slicer[:, :, :, frame_num]\n",
    "            all_subs_frame.append(time_slice)\n",
    "        signals = maps_masker.fit_transform(all_subs_frame)\n",
    "        return signals\n",
    "\n",
    "    process_time_slice_delayed = delayed(process_time_slice)\n",
    "\n",
    "    for frame_n in range(num_frames):\n",
    "        signals_list_delayed.append(\n",
    "            da.from_delayed(\n",
    "                process_time_slice_delayed(frame_n), \n",
    "                (num_subjects_data, difumo_dim), \n",
    "                dtype=float\n",
    "            )\n",
    "        )\n",
    "\n",
    "    all_signals = da.stack(signals_list_delayed, 0)\n",
    "    # all_signals.visualize(filename='all_signals.svg')\n",
    "    # result = all_signals.compute()\n",
    "    my_result = client.compute(all_signals)\n",
    "    result = client.gather(my_result)\n",
    "    return result\n"
   ]
  },
  {
   "cell_type": "code",
   "execution_count": null,
   "id": "7abd6d1d-2b6e-4a05-b659-94b6c796de75",
   "metadata": {
    "tags": []
   },
   "outputs": [],
   "source": []
  }
 ],
 "metadata": {
  "kernelspec": {
   "display_name": "Python 3 (ipykernel)",
   "language": "python",
   "name": "python3"
  },
  "language_info": {
   "codemirror_mode": {
    "name": "ipython",
    "version": 3
   },
   "file_extension": ".py",
   "mimetype": "text/x-python",
   "name": "python",
   "nbconvert_exporter": "python",
   "pygments_lexer": "ipython3",
   "version": "3.7.12"
  }
 },
 "nbformat": 4,
 "nbformat_minor": 5
}
