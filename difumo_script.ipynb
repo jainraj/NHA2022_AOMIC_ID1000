{
 "cells": [
  {
   "cell_type": "code",
   "execution_count": 1,
   "id": "4c93b677-21ad-4fc3-ae41-af49778608d3",
   "metadata": {},
   "outputs": [],
   "source": [
    "from tqdm.notebook import tqdm\n",
    "from fetcher import fetch_difumo\n",
    "import numpy as np\n",
    "from nilearn.maskers import NiftiMapsMasker\n",
    "import dask.array as da\n",
    "from dask import delayed\n",
    "import nibabel as nib\n",
    "from dask.distributed import Client, LocalCluster\n",
    "from nilearn.interfaces.fmriprep import load_confounds"
   ]
  },
  {
   "cell_type": "code",
   "execution_count": 2,
   "id": "b425ad21-7b6f-4e13-973c-f8e87202cee3",
   "metadata": {
    "tags": []
   },
   "outputs": [],
   "source": [
    "difumo_dim = 64\n",
    "maps_img = fetch_difumo(dimension=difumo_dim).maps\n",
    "maps_masker = NiftiMapsMasker(maps_img=maps_img, verbose=0, standardize=True)"
   ]
  },
  {
   "cell_type": "code",
   "execution_count": null,
   "id": "d8898239-ceb6-458d-87ab-4b09d9136509",
   "metadata": {},
   "outputs": [
    {
     "data": {
      "application/vnd.jupyter.widget-view+json": {
       "model_id": "a5fc84e6734b45478726d704b5720222",
       "version_major": 2,
       "version_minor": 0
      },
      "text/plain": [
       "Subjects:   0%|          | 0/100 [00:00<?, ?it/s]"
      ]
     },
     "metadata": {},
     "output_type": "display_data"
    }
   ],
   "source": [
    "all_sub_time_series = []\n",
    "\n",
    "for sub in tqdm(range(1, 101), desc='Subjects'):\n",
    "    bold_fname = f'/home/jovyan/shared/ds003097/derivatives/fmriprep/sub-{sub:04}/func/sub-{sub:04}_task-moviewatching_space-MNI152NLin2009cAsym_desc-preproc_bold.nii.gz'\n",
    "    try: \n",
    "        nib.load(bold_fname)  # Check if we have access to the file\n",
    "    except:\n",
    "        print(f'Error for {sub}')\n",
    "        continue\n",
    "    \n",
    "    confounds_minimal_no_gsr, sample_mask = load_confounds(\n",
    "        bold_fname,\n",
    "        strategy=[\"high_pass\", \"motion\", \"wm_csf\", \"global_signal\"],\n",
    "        motion=\"basic\", wm_csf=\"basic\", global_signal=\"basic\")\n",
    "    \n",
    "\n",
    "    time_series = maps_masker.fit_transform(bold_fname, confounds=confounds_minimal_no_gsr,\n",
    "                                            sample_mask=sample_mask)\n",
    "    all_sub_time_series.append(time_series)\n",
    "\n",
    "\n"
   ]
  },
  {
   "cell_type": "code",
   "execution_count": 16,
   "id": "0898920f-dae0-4f28-9297-dd4fc2eb0ace",
   "metadata": {
    "tags": []
   },
   "outputs": [],
   "source": [
    "# subjects_fmri = []\n",
    "\n",
    "# for sub in range(1, 101):\n",
    "#     fname = f'/home/jovyan/shared/ds003097/derivatives/fmriprep/sub-{sub:04}/func/sub-{sub:04}_task-moviewatching_space-MNI152NLin2009cAsym_desc-preproc_bold.nii.gz'\n",
    "#     try: \n",
    "#         subjects_fmri.append(nib.load(fname))\n",
    "#     except:\n",
    "#         print(f'Error for {sub}')\n"
   ]
  },
  {
   "cell_type": "code",
   "execution_count": 17,
   "id": "688e514b-c9d7-4226-a3d6-b261f5d92a54",
   "metadata": {},
   "outputs": [],
   "source": [
    "# subjects_fmri"
   ]
  },
  {
   "cell_type": "code",
   "execution_count": 18,
   "id": "f300bfd0-e30f-42c0-96ba-ea5c72388739",
   "metadata": {},
   "outputs": [],
   "source": [
    "# num_subjects_data = len(subjects_fmri)\n",
    "# num_subjects_data"
   ]
  },
  {
   "cell_type": "code",
   "execution_count": 9,
   "id": "e4f7c511-69c0-422b-a2db-a11566f71f98",
   "metadata": {},
   "outputs": [],
   "source": [
    "# num_frames = 100\n",
    "# signals_list = []\n",
    "\n",
    "\n",
    "# for sub_fmri in subjects_fmri:\n",
    "\n",
    "\n",
    "\n",
    "# for subj_id in tqdm(range(num_subjects_data), desc='Time'):\n",
    "\n",
    "#     all_subs_time = []\n",
    "#     for sub_fmri in subjects_fmri:\n",
    "#         time_slice = sub_fmri.slicer[:, :, :, time]\n",
    "#         all_subs_time.append(time_slice)\n",
    "\n",
    "#     signals = maps_masker.fit_transform(all_subs_time)\n",
    "#     signals_list.append(signals)\n",
    "\n",
    "# all_signals = np.array(signals_list)\n"
   ]
  },
  {
   "cell_type": "code",
   "execution_count": 19,
   "id": "c8765244-373e-4fff-b376-66b81565665e",
   "metadata": {},
   "outputs": [],
   "source": [
    "# all_data = no_parallel()"
   ]
  },
  {
   "cell_type": "code",
   "execution_count": 20,
   "id": "9a554eae-3852-4fdc-977c-7db35179682c",
   "metadata": {},
   "outputs": [],
   "source": [
    "# with open('all_data.npy', 'wb') as f:\n",
    "#     np.save(f, all_data)"
   ]
  },
  {
   "cell_type": "code",
   "execution_count": null,
   "id": "e0a88b3c-cade-4a34-ab9f-d8ca0e4118b1",
   "metadata": {},
   "outputs": [],
   "source": [
    "def parallel_work():\n",
    "    cluster = LocalCluster(n_workers=2, )\n",
    "    client = Client(cluster)\n",
    "    \n",
    "    num_frames = 290\n",
    "    signals_list_delayed = []\n",
    "\n",
    "    def process_time_slice(frame_num):\n",
    "        maps_masker = NiftiMapsMasker(maps_img=maps_img, verbose=0, standardize=True)\n",
    "        all_subs_frame = []\n",
    "        for sub_fmri in subjects_fmri:\n",
    "            time_slice = sub_fmri.slicer[:, :, :, frame_num]\n",
    "            all_subs_frame.append(time_slice)\n",
    "        signals = maps_masker.fit_transform(all_subs_frame)\n",
    "        return signals\n",
    "\n",
    "    process_time_slice_delayed = delayed(process_time_slice)\n",
    "\n",
    "    for frame_n in range(num_frames):\n",
    "        signals_list_delayed.append(\n",
    "            da.from_delayed(\n",
    "                process_time_slice_delayed(frame_n), \n",
    "                (num_subjects_data, difumo_dim), \n",
    "                dtype=float\n",
    "            )\n",
    "        )\n",
    "\n",
    "    all_signals = da.stack(signals_list_delayed, 0)\n",
    "    # all_signals.visualize(filename='all_signals.svg')\n",
    "    # result = all_signals.compute()\n",
    "    my_result = client.compute(all_signals)\n",
    "    result = client.gather(my_result)\n",
    "    return result\n"
   ]
  },
  {
   "cell_type": "code",
   "execution_count": null,
   "id": "7abd6d1d-2b6e-4a05-b659-94b6c796de75",
   "metadata": {
    "tags": []
   },
   "outputs": [],
   "source": []
  }
 ],
 "metadata": {
  "kernelspec": {
   "display_name": "Python 3 (ipykernel)",
   "language": "python",
   "name": "python3"
  },
  "language_info": {
   "codemirror_mode": {
    "name": "ipython",
    "version": 3
   },
   "file_extension": ".py",
   "mimetype": "text/x-python",
   "name": "python",
   "nbconvert_exporter": "python",
   "pygments_lexer": "ipython3",
   "version": "3.7.12"
  }
 },
 "nbformat": 4,
 "nbformat_minor": 5
}
