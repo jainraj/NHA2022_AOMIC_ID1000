{
 "cells": [
  {
   "cell_type": "code",
   "execution_count": 5,
   "id": "47f899d8",
   "metadata": {},
   "outputs": [
    {
     "name": "stdout",
     "output_type": "stream",
     "text": [
      "Requirement already satisfied: pliers[all] in /Users/Chelsea/miniconda3/envs/py37_dev/lib/python3.7/site-packages (0.4.1)\n",
      "Requirement already satisfied: numpy in /Users/Chelsea/miniconda3/envs/py37_dev/lib/python3.7/site-packages (from pliers[all]) (1.21.6)\n",
      "Requirement already satisfied: pandas in /Users/Chelsea/miniconda3/envs/py37_dev/lib/python3.7/site-packages (from pliers[all]) (1.3.5)\n",
      "Requirement already satisfied: pillow in /Users/Chelsea/miniconda3/envs/py37_dev/lib/python3.7/site-packages (from pliers[all]) (9.2.0)\n",
      "Requirement already satisfied: scipy in /Users/Chelsea/miniconda3/envs/py37_dev/lib/python3.7/site-packages (from pliers[all]) (1.7.3)\n",
      "Requirement already satisfied: python-magic in /Users/Chelsea/miniconda3/envs/py37_dev/lib/python3.7/site-packages (from pliers[all]) (0.4.27)\n",
      "Requirement already satisfied: requests in /Users/Chelsea/miniconda3/envs/py37_dev/lib/python3.7/site-packages (from pliers[all]) (2.28.1)\n",
      "Requirement already satisfied: moviepy in /Users/Chelsea/miniconda3/envs/py37_dev/lib/python3.7/site-packages (from pliers[all]) (1.0.3)\n",
      "Requirement already satisfied: nltk in /Users/Chelsea/miniconda3/envs/py37_dev/lib/python3.7/site-packages (from pliers[all]) (3.7)\n",
      "Requirement already satisfied: clarifai in /Users/Chelsea/miniconda3/envs/py37_dev/lib/python3.7/site-packages (from pliers[all]) (2.6.2)\n",
      "Collecting face-recognition\n",
      "  Using cached face_recognition-1.3.0-py2.py3-none-any.whl (15 kB)\n",
      "Collecting google-api-python-client\n",
      "  Using cached google_api_python_client-2.55.0-py2.py3-none-any.whl (8.8 MB)\n",
      "Collecting transformers\n",
      "  Using cached transformers-4.21.0-py3-none-any.whl (4.7 MB)\n",
      "Collecting seaborn\n",
      "  Using cached seaborn-0.11.2-py3-none-any.whl (292 kB)\n",
      "Collecting matplotlib\n",
      "  Using cached matplotlib-3.5.2-cp37-cp37m-macosx_10_9_x86_64.whl (7.3 MB)\n",
      "Requirement already satisfied: torch in /Users/Chelsea/miniconda3/envs/py37_dev/lib/python3.7/site-packages (from pliers[all]) (1.12.0)\n",
      "Requirement already satisfied: pygraphviz in /Users/Chelsea/miniconda3/envs/py37_dev/lib/python3.7/site-packages (from pliers[all]) (1.7)\n",
      "Collecting google-compute-engine\n",
      "  Using cached google_compute_engine-2.8.13-py2.py3-none-any.whl\n",
      "Requirement already satisfied: SpeechRecognition>=3.6.0 in /Users/Chelsea/miniconda3/envs/py37_dev/lib/python3.7/site-packages (from pliers[all]) (3.8.1)\n",
      "Collecting duecredit\n",
      "  Using cached duecredit-0.9.1-py3-none-any.whl (86 kB)\n",
      "Collecting librosa>=0.6.3numba<=0.48\n",
      "  Using cached librosa-0.9.2-py3-none-any.whl (214 kB)\n",
      "Collecting gensim\n",
      "  Using cached gensim-4.2.0-cp37-cp37m-macosx_10_9_x86_64.whl (24.0 MB)\n",
      "Collecting tensorflow>=1.0.0\n",
      "  Using cached tensorflow-2.9.1-cp37-cp37m-macosx_10_14_x86_64.whl (228.4 MB)\n",
      "Requirement already satisfied: xlrd in /Users/Chelsea/miniconda3/envs/py37_dev/lib/python3.7/site-packages (from pliers[all]) (2.0.1)\n",
      "Collecting rev-ai\n",
      "  Using cached rev_ai-2.17.0-py2.py3-none-any.whl (36 kB)\n",
      "Collecting spacy\n",
      "  Using cached spacy-3.4.1-cp37-cp37m-macosx_10_9_x86_64.whl (6.4 MB)\n",
      "Collecting soundfile\n",
      "  Using cached SoundFile-0.10.3.post1-py2.py3.cp26.cp27.cp32.cp33.cp34.cp35.cp36.pp27.pp32.pp33-none-macosx_10_5_x86_64.macosx_10_6_intel.macosx_10_9_intel.macosx_10_9_x86_64.whl (613 kB)\n",
      "Collecting pysrt\n",
      "  Using cached pysrt-1.1.2-py3-none-any.whl\n",
      "Collecting pytesseract\n",
      "  Using cached pytesseract-0.3.9-py2.py3-none-any.whl (14 kB)\n",
      "Collecting python-twitter\n",
      "  Using cached python_twitter-3.5-py2.py3-none-any.whl (67 kB)\n",
      "Collecting pathos\n",
      "  Using cached pathos-0.2.9-py3-none-any.whl (76 kB)\n",
      "Collecting opencv-python\n",
      "  Using cached opencv_python-4.6.0.66-cp36-abi3-macosx_10_15_x86_64.whl (46.4 MB)\n",
      "Collecting scikit-learn\n",
      "  Using cached scikit_learn-1.0.2-cp37-cp37m-macosx_10_13_x86_64.whl (7.8 MB)\n",
      "Requirement already satisfied: joblib>=0.14 in /Users/Chelsea/miniconda3/envs/py37_dev/lib/python3.7/site-packages (from librosa>=0.6.3numba<=0.48->pliers[all]) (1.1.0)\n",
      "Requirement already satisfied: packaging>=20.0 in /Users/Chelsea/miniconda3/envs/py37_dev/lib/python3.7/site-packages (from librosa>=0.6.3numba<=0.48->pliers[all]) (21.3)\n",
      "Requirement already satisfied: audioread>=2.1.9 in /Users/Chelsea/miniconda3/envs/py37_dev/lib/python3.7/site-packages (from librosa>=0.6.3numba<=0.48->pliers[all]) (2.1.9)\n",
      "Collecting pooch>=1.0\n",
      "  Using cached pooch-1.6.0-py3-none-any.whl (56 kB)\n",
      "Collecting resampy>=0.2.2\n",
      "  Using cached resampy-0.3.1-py3-none-any.whl (3.1 MB)\n",
      "Requirement already satisfied: decorator>=4.0.10 in /Users/Chelsea/miniconda3/envs/py37_dev/lib/python3.7/site-packages (from librosa>=0.6.3numba<=0.48->pliers[all]) (4.4.2)\n",
      "Collecting numba>=0.45.1\n",
      "  Using cached numba-0.56.0-cp37-cp37m-macosx_10_14_x86_64.whl (2.4 MB)\n",
      "Requirement already satisfied: threadpoolctl>=2.0.0 in /Users/Chelsea/miniconda3/envs/py37_dev/lib/python3.7/site-packages (from scikit-learn->pliers[all]) (3.1.0)\n",
      "Requirement already satisfied: cffi>=1.0 in /Users/Chelsea/miniconda3/envs/py37_dev/lib/python3.7/site-packages (from soundfile->pliers[all]) (1.15.0)\n",
      "Requirement already satisfied: tensorflow-estimator<2.10.0,>=2.9.0rc0 in /Users/Chelsea/miniconda3/envs/py37_dev/lib/python3.7/site-packages (from tensorflow>=1.0.0->pliers[all]) (2.9.0)\n",
      "Requirement already satisfied: wrapt>=1.11.0 in /Users/Chelsea/miniconda3/envs/py37_dev/lib/python3.7/site-packages (from tensorflow>=1.0.0->pliers[all]) (1.14.1)\n",
      "Requirement already satisfied: keras<2.10.0,>=2.9.0rc0 in /Users/Chelsea/miniconda3/envs/py37_dev/lib/python3.7/site-packages (from tensorflow>=1.0.0->pliers[all]) (2.9.0)\n",
      "Requirement already satisfied: flatbuffers<2,>=1.12 in /Users/Chelsea/miniconda3/envs/py37_dev/lib/python3.7/site-packages (from tensorflow>=1.0.0->pliers[all]) (1.12)\n",
      "Collecting keras-preprocessing>=1.1.1\n",
      "  Using cached Keras_Preprocessing-1.1.2-py2.py3-none-any.whl (42 kB)\n",
      "Requirement already satisfied: setuptools in /Users/Chelsea/miniconda3/envs/py37_dev/lib/python3.7/site-packages (from tensorflow>=1.0.0->pliers[all]) (61.2.0)\n",
      "Collecting tensorboard<2.10,>=2.9\n",
      "  Using cached tensorboard-2.9.1-py3-none-any.whl (5.8 MB)\n",
      "Collecting google-pasta>=0.1.1\n",
      "  Using cached google_pasta-0.2.0-py3-none-any.whl (57 kB)\n",
      "Requirement already satisfied: six>=1.12.0 in /Users/Chelsea/miniconda3/envs/py37_dev/lib/python3.7/site-packages (from tensorflow>=1.0.0->pliers[all]) (1.16.0)\n",
      "Requirement already satisfied: grpcio<2.0,>=1.24.3 in /Users/Chelsea/miniconda3/envs/py37_dev/lib/python3.7/site-packages (from tensorflow>=1.0.0->pliers[all]) (1.47.0)\n",
      "Collecting protobuf<3.20,>=3.9.2\n",
      "  Using cached protobuf-3.19.4-cp37-cp37m-macosx_10_9_x86_64.whl (960 kB)\n",
      "Requirement already satisfied: tensorflow-io-gcs-filesystem>=0.23.1 in /Users/Chelsea/miniconda3/envs/py37_dev/lib/python3.7/site-packages (from tensorflow>=1.0.0->pliers[all]) (0.26.0)\n",
      "Collecting h5py>=2.9.0\n",
      "  Using cached h5py-3.7.0-cp37-cp37m-macosx_10_9_x86_64.whl (3.1 MB)\n",
      "Collecting absl-py>=1.0.0\n",
      "  Using cached absl_py-1.2.0-py3-none-any.whl (123 kB)\n",
      "Requirement already satisfied: termcolor>=1.1.0 in /Users/Chelsea/miniconda3/envs/py37_dev/lib/python3.7/site-packages (from tensorflow>=1.0.0->pliers[all]) (1.1.0)\n",
      "Collecting opt-einsum>=2.3.2\n",
      "  Using cached opt_einsum-3.3.0-py3-none-any.whl (65 kB)\n",
      "Collecting astunparse>=1.6.0\n",
      "  Using cached astunparse-1.6.3-py2.py3-none-any.whl (12 kB)\n",
      "Requirement already satisfied: libclang>=13.0.0 in /Users/Chelsea/miniconda3/envs/py37_dev/lib/python3.7/site-packages (from tensorflow>=1.0.0->pliers[all]) (14.0.1)\n",
      "Collecting gast<=0.4.0,>=0.2.1\n",
      "  Using cached gast-0.4.0-py3-none-any.whl (9.8 kB)\n",
      "Requirement already satisfied: typing-extensions>=3.6.6 in /Users/Chelsea/miniconda3/envs/py37_dev/lib/python3.7/site-packages (from tensorflow>=1.0.0->pliers[all]) (4.1.1)\n",
      "Requirement already satisfied: configparser<4,>=3.5 in /Users/Chelsea/miniconda3/envs/py37_dev/lib/python3.7/site-packages (from clarifai->pliers[all]) (3.8.1)\n",
      "Requirement already satisfied: jsonschema<3,>=2.5 in /Users/Chelsea/miniconda3/envs/py37_dev/lib/python3.7/site-packages (from clarifai->pliers[all]) (2.6.0)\n",
      "Requirement already satisfied: googleapis-common-protos<2,>=1.5.0 in /Users/Chelsea/miniconda3/envs/py37_dev/lib/python3.7/site-packages (from clarifai->pliers[all]) (1.56.4)\n",
      "Requirement already satisfied: future<2,>=0.15 in /Users/Chelsea/miniconda3/envs/py37_dev/lib/python3.7/site-packages (from clarifai->pliers[all]) (0.18.2)\n"
     ]
    },
    {
     "name": "stdout",
     "output_type": "stream",
     "text": [
      "Requirement already satisfied: urllib3<1.27,>=1.21.1 in /Users/Chelsea/miniconda3/envs/py37_dev/lib/python3.7/site-packages (from requests->pliers[all]) (1.26.11)\n",
      "Requirement already satisfied: certifi>=2017.4.17 in /Users/Chelsea/miniconda3/envs/py37_dev/lib/python3.7/site-packages (from requests->pliers[all]) (2022.6.15)\n",
      "Requirement already satisfied: idna<4,>=2.5 in /Users/Chelsea/miniconda3/envs/py37_dev/lib/python3.7/site-packages (from requests->pliers[all]) (3.3)\n",
      "Requirement already satisfied: charset-normalizer<3,>=2 in /Users/Chelsea/miniconda3/envs/py37_dev/lib/python3.7/site-packages (from requests->pliers[all]) (2.0.4)\n",
      "Collecting citeproc-py>=0.4\n",
      "  Using cached citeproc_py-0.6.0-py3-none-any.whl (179 kB)\n",
      "Requirement already satisfied: importlib-metadata in /Users/Chelsea/miniconda3/envs/py37_dev/lib/python3.7/site-packages (from duecredit->pliers[all]) (4.11.3)\n",
      "Requirement already satisfied: Click>=6.0 in /Users/Chelsea/miniconda3/envs/py37_dev/lib/python3.7/site-packages (from face-recognition->pliers[all]) (8.1.3)\n",
      "Requirement already satisfied: face-recognition-models>=0.3.0 in /Users/Chelsea/miniconda3/envs/py37_dev/lib/python3.7/site-packages (from face-recognition->pliers[all]) (0.3.0)\n",
      "Requirement already satisfied: dlib>=19.7 in /Users/Chelsea/miniconda3/envs/py37_dev/lib/python3.7/site-packages (from face-recognition->pliers[all]) (19.24.0)\n",
      "Requirement already satisfied: smart-open>=1.8.1 in /Users/Chelsea/miniconda3/envs/py37_dev/lib/python3.7/site-packages (from gensim->pliers[all]) (5.2.1)\n",
      "Collecting httplib2<1dev,>=0.15.0\n",
      "  Using cached httplib2-0.20.4-py3-none-any.whl (96 kB)\n",
      "Requirement already satisfied: uritemplate<5,>=3.0.1 in /Users/Chelsea/miniconda3/envs/py37_dev/lib/python3.7/site-packages (from google-api-python-client->pliers[all]) (4.1.1)\n",
      "Collecting google-auth-httplib2>=0.1.0\n",
      "  Using cached google_auth_httplib2-0.1.0-py2.py3-none-any.whl (9.3 kB)\n",
      "Collecting google-auth<3.0.0dev,>=1.19.0\n",
      "  Using cached google_auth-2.9.1-py2.py3-none-any.whl (167 kB)\n",
      "Collecting google-api-core!=2.0.*,!=2.1.*,!=2.2.*,!=2.3.0,<3.0.0dev,>=1.31.5\n",
      "  Using cached google_api_core-2.8.2-py3-none-any.whl (114 kB)\n",
      "Collecting distro\n",
      "  Using cached distro-1.7.0-py3-none-any.whl (20 kB)\n",
      "Requirement already satisfied: boto in /Users/Chelsea/miniconda3/envs/py37_dev/lib/python3.7/site-packages (from google-compute-engine->pliers[all]) (2.49.0)\n",
      "Collecting cycler>=0.10\n",
      "  Using cached cycler-0.11.0-py3-none-any.whl (6.4 kB)\n",
      "Requirement already satisfied: pyparsing>=2.2.1 in /Users/Chelsea/miniconda3/envs/py37_dev/lib/python3.7/site-packages (from matplotlib->pliers[all]) (3.0.4)\n",
      "Requirement already satisfied: python-dateutil>=2.7 in /Users/Chelsea/miniconda3/envs/py37_dev/lib/python3.7/site-packages (from matplotlib->pliers[all]) (2.8.2)\n",
      "Collecting kiwisolver>=1.0.1\n",
      "  Using cached kiwisolver-1.4.4-cp37-cp37m-macosx_10_9_x86_64.whl (65 kB)\n",
      "Collecting fonttools>=4.22.0\n",
      "  Using cached fonttools-4.34.4-py3-none-any.whl (944 kB)\n",
      "Requirement already satisfied: imageio-ffmpeg>=0.2.0 in /Users/Chelsea/miniconda3/envs/py37_dev/lib/python3.7/site-packages (from moviepy->pliers[all]) (0.4.7)\n",
      "Requirement already satisfied: proglog<=1.0.0 in /Users/Chelsea/miniconda3/envs/py37_dev/lib/python3.7/site-packages (from moviepy->pliers[all]) (0.1.10)\n",
      "Requirement already satisfied: imageio<3.0,>=2.5 in /Users/Chelsea/miniconda3/envs/py37_dev/lib/python3.7/site-packages (from moviepy->pliers[all]) (2.21.0)\n",
      "Requirement already satisfied: tqdm<5.0,>=4.11.2 in /Users/Chelsea/miniconda3/envs/py37_dev/lib/python3.7/site-packages (from moviepy->pliers[all]) (4.64.0)\n",
      "Requirement already satisfied: regex>=2021.8.3 in /Users/Chelsea/miniconda3/envs/py37_dev/lib/python3.7/site-packages (from nltk->pliers[all]) (2022.7.25)\n",
      "Requirement already satisfied: pytz>=2017.3 in /Users/Chelsea/miniconda3/envs/py37_dev/lib/python3.7/site-packages (from pandas->pliers[all]) (2022.1)\n",
      "Collecting ppft>=1.7.6.5\n",
      "  Using cached ppft-1.7.6.5-py2.py3-none-any.whl (52 kB)\n",
      "Collecting multiprocess>=0.70.13\n",
      "  Using cached multiprocess-0.70.13-py37-none-any.whl (115 kB)\n",
      "Collecting dill>=0.3.5.1\n",
      "  Using cached dill-0.3.5.1-py2.py3-none-any.whl (95 kB)\n",
      "Collecting pox>=0.3.1\n",
      "  Using cached pox-0.3.1-py2.py3-none-any.whl (28 kB)\n",
      "Collecting chardet\n",
      "  Using cached chardet-5.0.0-py3-none-any.whl (193 kB)\n",
      "Collecting requests-oauthlib\n",
      "  Using cached requests_oauthlib-1.3.1-py2.py3-none-any.whl (23 kB)\n",
      "Requirement already satisfied: websocket-client<1.0.0,>=0.56.0 in /Users/Chelsea/miniconda3/envs/py37_dev/lib/python3.7/site-packages (from rev-ai->pliers[all]) (0.58.0)\n",
      "Collecting langcodes<4.0.0,>=3.2.0\n",
      "  Using cached langcodes-3.3.0-py3-none-any.whl (181 kB)\n",
      "Collecting pathy>=0.3.5\n",
      "  Using cached pathy-0.6.2-py3-none-any.whl (42 kB)\n",
      "Requirement already satisfied: wasabi<1.1.0,>=0.9.1 in /Users/Chelsea/miniconda3/envs/py37_dev/lib/python3.7/site-packages (from spacy->pliers[all]) (0.10.1)\n",
      "Requirement already satisfied: spacy-legacy<3.1.0,>=3.0.9 in /Users/Chelsea/miniconda3/envs/py37_dev/lib/python3.7/site-packages (from spacy->pliers[all]) (3.0.9)\n",
      "Requirement already satisfied: murmurhash<1.1.0,>=0.28.0 in /Users/Chelsea/miniconda3/envs/py37_dev/lib/python3.7/site-packages (from spacy->pliers[all]) (1.0.7)\n",
      "Collecting typer<0.5.0,>=0.3.0\n",
      "  Using cached typer-0.4.2-py3-none-any.whl (27 kB)\n",
      "Requirement already satisfied: cymem<2.1.0,>=2.0.2 in /Users/Chelsea/miniconda3/envs/py37_dev/lib/python3.7/site-packages (from spacy->pliers[all]) (2.0.6)\n",
      "Collecting pydantic!=1.8,!=1.8.1,<1.10.0,>=1.7.4\n",
      "  Using cached pydantic-1.9.1-cp37-cp37m-macosx_10_9_x86_64.whl (2.8 MB)\n",
      "Collecting catalogue<2.1.0,>=2.0.6\n",
      "  Using cached catalogue-2.0.8-py3-none-any.whl (17 kB)\n",
      "Requirement already satisfied: jinja2 in /Users/Chelsea/miniconda3/envs/py37_dev/lib/python3.7/site-packages (from spacy->pliers[all]) (3.0.3)\n",
      "Collecting preshed<3.1.0,>=3.0.2\n",
      "  Using cached preshed-3.0.6-cp37-cp37m-macosx_10_9_x86_64.whl (104 kB)\n",
      "Collecting srsly<3.0.0,>=2.4.3\n",
      "  Using cached srsly-2.4.4-cp37-cp37m-macosx_10_9_x86_64.whl (457 kB)\n",
      "Collecting thinc<8.2.0,>=8.1.0\n",
      "  Using cached thinc-8.1.0-cp37-cp37m-macosx_10_9_x86_64.whl (761 kB)\n",
      "Requirement already satisfied: spacy-loggers<2.0.0,>=1.0.0 in /Users/Chelsea/miniconda3/envs/py37_dev/lib/python3.7/site-packages (from spacy->pliers[all]) (1.0.3)\n",
      "Requirement already satisfied: pyyaml>=5.1 in /Users/Chelsea/miniconda3/envs/py37_dev/lib/python3.7/site-packages (from transformers->pliers[all]) (6.0)\n",
      "Collecting huggingface-hub<1.0,>=0.1.0\n",
      "  Using cached huggingface_hub-0.8.1-py3-none-any.whl (101 kB)\n",
      "Requirement already satisfied: tokenizers!=0.11.3,<0.13,>=0.11.1 in /Users/Chelsea/miniconda3/envs/py37_dev/lib/python3.7/site-packages (from transformers->pliers[all]) (0.12.1)\n",
      "Collecting filelock\n",
      "  Using cached filelock-3.7.1-py3-none-any.whl (10 kB)\n",
      "Requirement already satisfied: wheel<1.0,>=0.23.0 in /Users/Chelsea/miniconda3/envs/py37_dev/lib/python3.7/site-packages (from astunparse>=1.6.0->tensorflow>=1.0.0->pliers[all]) (0.37.1)\n",
      "Requirement already satisfied: zipp>=0.5 in /Users/Chelsea/miniconda3/envs/py37_dev/lib/python3.7/site-packages (from catalogue<2.1.0,>=2.0.6->spacy->pliers[all]) (3.8.0)\n",
      "Requirement already satisfied: pycparser in /Users/Chelsea/miniconda3/envs/py37_dev/lib/python3.7/site-packages (from cffi>=1.0->soundfile->pliers[all]) (2.21)\n",
      "Collecting lxml\n",
      "  Using cached lxml-4.9.1-cp37-cp37m-macosx_10_15_x86_64.whl (4.5 MB)\n",
      "Collecting cachetools<6.0,>=2.0.0\n",
      "  Using cached cachetools-5.2.0-py3-none-any.whl (9.3 kB)\n",
      "Collecting pyasn1-modules>=0.2.1\n",
      "  Using cached pyasn1_modules-0.2.8-py2.py3-none-any.whl (155 kB)\n",
      "Requirement already satisfied: rsa<5,>=3.1.4 in /Users/Chelsea/miniconda3/envs/py37_dev/lib/python3.7/site-packages (from google-auth<3.0.0dev,>=1.19.0->google-api-python-client->pliers[all]) (4.9)\n",
      "Collecting llvmlite<0.40,>=0.39.0dev0\n",
      "  Using cached llvmlite-0.39.0-cp37-cp37m-macosx_10_9_x86_64.whl (25.5 MB)\n",
      "Requirement already satisfied: appdirs>=1.3.0 in /Users/Chelsea/miniconda3/envs/py37_dev/lib/python3.7/site-packages (from pooch>=1.0->librosa>=0.6.3numba<=0.48->pliers[all]) (1.4.4)\n",
      "Requirement already satisfied: tensorboard-data-server<0.7.0,>=0.6.0 in /Users/Chelsea/miniconda3/envs/py37_dev/lib/python3.7/site-packages (from tensorboard<2.10,>=2.9->tensorflow>=1.0.0->pliers[all]) (0.6.1)\n",
      "Requirement already satisfied: tensorboard-plugin-wit>=1.6.0 in /Users/Chelsea/miniconda3/envs/py37_dev/lib/python3.7/site-packages (from tensorboard<2.10,>=2.9->tensorflow>=1.0.0->pliers[all]) (1.8.1)\n",
      "Collecting google-auth-oauthlib<0.5,>=0.4.1\n"
     ]
    },
    {
     "name": "stdout",
     "output_type": "stream",
     "text": [
      "  Using cached google_auth_oauthlib-0.4.6-py2.py3-none-any.whl (18 kB)\n",
      "Requirement already satisfied: werkzeug>=1.0.1 in /Users/Chelsea/miniconda3/envs/py37_dev/lib/python3.7/site-packages (from tensorboard<2.10,>=2.9->tensorflow>=1.0.0->pliers[all]) (2.2.1)\n",
      "Collecting markdown>=2.6.8\n",
      "  Using cached Markdown-3.4.1-py3-none-any.whl (93 kB)\n",
      "Collecting blis<0.8.0,>=0.7.8\n",
      "  Using cached blis-0.7.8-cp37-cp37m-macosx_10_9_x86_64.whl (5.9 MB)\n",
      "Requirement already satisfied: MarkupSafe>=2.0 in /Users/Chelsea/miniconda3/envs/py37_dev/lib/python3.7/site-packages (from jinja2->spacy->pliers[all]) (2.1.1)\n",
      "Collecting oauthlib>=3.0.0\n",
      "  Using cached oauthlib-3.2.0-py3-none-any.whl (151 kB)\n",
      "Requirement already satisfied: pyasn1<0.5.0,>=0.4.6 in /Users/Chelsea/miniconda3/envs/py37_dev/lib/python3.7/site-packages (from pyasn1-modules>=0.2.1->google-auth<3.0.0dev,>=1.19.0->google-api-python-client->pliers[all]) (0.4.8)\n",
      "Installing collected packages: pydantic, pyasn1-modules, protobuf, preshed, ppft, pox, opt-einsum, opencv-python, oauthlib, lxml, llvmlite, langcodes, kiwisolver, keras-preprocessing, httplib2, h5py, google-pasta, gast, fonttools, filelock, distro, dill, cycler, chardet, catalogue, cachetools, blis, astunparse, absl-py, srsly, soundfile, scikit-learn, rev-ai, requests-oauthlib, pytesseract, pysrt, pooch, numba, multiprocess, matplotlib, markdown, huggingface-hub, google-compute-engine, google-auth, gensim, citeproc-py, typer, transformers, thinc, seaborn, resampy, python-twitter, pathos, google-auth-oauthlib, google-auth-httplib2, google-api-core, face-recognition, duecredit, tensorboard, pathy, librosa, google-api-python-client, tensorflow, spacy\n",
      "  Attempting uninstall: protobuf\n",
      "    Found existing installation: protobuf 3.20.1\n",
      "    Uninstalling protobuf-3.20.1:\n",
      "      Successfully uninstalled protobuf-3.20.1\n",
      "Successfully installed absl-py-1.2.0 astunparse-1.6.3 blis-0.7.8 cachetools-5.2.0 catalogue-2.0.8 chardet-5.0.0 citeproc-py-0.6.0 cycler-0.11.0 dill-0.3.5.1 distro-1.7.0 duecredit-0.9.1 face-recognition-1.3.0 filelock-3.7.1 fonttools-4.34.4 gast-0.4.0 gensim-4.2.0 google-api-core-2.8.2 google-api-python-client-2.55.0 google-auth-2.9.1 google-auth-httplib2-0.1.0 google-auth-oauthlib-0.4.6 google-compute-engine-2.8.13 google-pasta-0.2.0 h5py-3.7.0 httplib2-0.20.4 huggingface-hub-0.8.1 keras-preprocessing-1.1.2 kiwisolver-1.4.4 langcodes-3.3.0 librosa-0.9.2 llvmlite-0.39.0 lxml-4.9.1 markdown-3.4.1 matplotlib-3.5.2 multiprocess-0.70.13 numba-0.56.0 oauthlib-3.2.0 opencv-python-4.6.0.66 opt-einsum-3.3.0 pathos-0.2.9 pathy-0.6.2 pooch-1.6.0 pox-0.3.1 ppft-1.7.6.5 preshed-3.0.6 protobuf-3.19.4 pyasn1-modules-0.2.8 pydantic-1.9.1 pysrt-1.1.2 pytesseract-0.3.9 python-twitter-3.5 requests-oauthlib-1.3.1 resampy-0.3.1 rev-ai-2.17.0 scikit-learn-1.0.2 seaborn-0.11.2 soundfile-0.10.3.post1 spacy-3.4.1 srsly-2.4.4 tensorboard-2.9.1 tensorflow-2.9.1 thinc-8.1.0 transformers-4.21.0 typer-0.4.2\n",
      "Note: you may need to restart the kernel to use updated packages.\n"
     ]
    }
   ],
   "source": [
    "pip install pliers\\[all\\]"
   ]
  },
  {
   "cell_type": "markdown",
   "id": "b218c6ae",
   "metadata": {},
   "source": [
    "Extract chromagram from an audio clip\n",
    "Object recognition on selective sampled video frames"
   ]
  },
  {
   "cell_type": "code",
   "execution_count": 7,
   "id": "37b8a7b1",
   "metadata": {},
   "outputs": [],
   "source": [
    "CLARIFAI_API_KEY = '73a3da707ef9437f91bd1f9fb133bae0'"
   ]
  },
  {
   "cell_type": "code",
   "execution_count": 8,
   "id": "6db71169",
   "metadata": {},
   "outputs": [
    {
     "ename": "ValueError",
     "evalue": "A valid Clarifai API API_KEY must be passed the first time a Clarifai extractor is initialized.",
     "output_type": "error",
     "traceback": [
      "\u001b[0;31m---------------------------------------------------------------------------\u001b[0m",
      "\u001b[0;31mKeyError\u001b[0m                                  Traceback (most recent call last)",
      "\u001b[0;32m~/miniconda3/envs/py37_dev/lib/python3.7/site-packages/pliers/extractors/api/clarifai.py\u001b[0m in \u001b[0;36m__init__\u001b[0;34m(self, api_key, model, min_value, max_concepts, select_concepts, rate_limit, batch_size)\u001b[0m\n\u001b[1;32m     57\u001b[0m             \u001b[0;32mtry\u001b[0m\u001b[0;34m:\u001b[0m\u001b[0;34m\u001b[0m\u001b[0;34m\u001b[0m\u001b[0m\n\u001b[0;32m---> 58\u001b[0;31m                 \u001b[0mapi_key\u001b[0m \u001b[0;34m=\u001b[0m \u001b[0mos\u001b[0m\u001b[0;34m.\u001b[0m\u001b[0menviron\u001b[0m\u001b[0;34m[\u001b[0m\u001b[0;34m'CLARIFAI_API_KEY'\u001b[0m\u001b[0;34m]\u001b[0m\u001b[0;34m\u001b[0m\u001b[0;34m\u001b[0m\u001b[0m\n\u001b[0m\u001b[1;32m     59\u001b[0m             \u001b[0;32mexcept\u001b[0m \u001b[0mKeyError\u001b[0m\u001b[0;34m:\u001b[0m\u001b[0;34m\u001b[0m\u001b[0;34m\u001b[0m\u001b[0m\n",
      "\u001b[0;32m~/miniconda3/envs/py37_dev/lib/python3.7/os.py\u001b[0m in \u001b[0;36m__getitem__\u001b[0;34m(self, key)\u001b[0m\n\u001b[1;32m    680\u001b[0m             \u001b[0;31m# raise KeyError with the original key value\u001b[0m\u001b[0;34m\u001b[0m\u001b[0;34m\u001b[0m\u001b[0;34m\u001b[0m\u001b[0m\n\u001b[0;32m--> 681\u001b[0;31m             \u001b[0;32mraise\u001b[0m \u001b[0mKeyError\u001b[0m\u001b[0;34m(\u001b[0m\u001b[0mkey\u001b[0m\u001b[0;34m)\u001b[0m \u001b[0;32mfrom\u001b[0m \u001b[0;32mNone\u001b[0m\u001b[0;34m\u001b[0m\u001b[0;34m\u001b[0m\u001b[0m\n\u001b[0m\u001b[1;32m    682\u001b[0m         \u001b[0;32mreturn\u001b[0m \u001b[0mself\u001b[0m\u001b[0;34m.\u001b[0m\u001b[0mdecodevalue\u001b[0m\u001b[0;34m(\u001b[0m\u001b[0mvalue\u001b[0m\u001b[0;34m)\u001b[0m\u001b[0;34m\u001b[0m\u001b[0;34m\u001b[0m\u001b[0m\n",
      "\u001b[0;31mKeyError\u001b[0m: 'CLARIFAI_API_KEY'",
      "\nDuring handling of the above exception, another exception occurred:\n",
      "\u001b[0;31mValueError\u001b[0m                                Traceback (most recent call last)",
      "\u001b[0;32m/var/folders/sq/z8rq9ws55k5d8bg1b1cyrjgr0000gp/T/ipykernel_35268/46002619.py\u001b[0m in \u001b[0;36m<module>\u001b[0;34m\u001b[0m\n\u001b[1;32m      4\u001b[0m \u001b[0;32mfrom\u001b[0m \u001b[0mpliers\u001b[0m\u001b[0;34m.\u001b[0m\u001b[0mfilters\u001b[0m \u001b[0;32mimport\u001b[0m \u001b[0mFrameSamplingFilter\u001b[0m\u001b[0;34m\u001b[0m\u001b[0;34m\u001b[0m\u001b[0m\n\u001b[1;32m      5\u001b[0m \u001b[0;32mfrom\u001b[0m \u001b[0mpliers\u001b[0m\u001b[0;34m.\u001b[0m\u001b[0mextractors\u001b[0m \u001b[0;32mimport\u001b[0m \u001b[0mClarifaiAPIImageExtractor\u001b[0m\u001b[0;34m,\u001b[0m \u001b[0mmerge_results\u001b[0m\u001b[0;34m\u001b[0m\u001b[0;34m\u001b[0m\u001b[0m\n\u001b[0;32m----> 6\u001b[0;31m \u001b[0mext\u001b[0m \u001b[0;34m=\u001b[0m \u001b[0mClarifaiAPIImageExtractor\u001b[0m\u001b[0;34m(\u001b[0m\u001b[0;34m)\u001b[0m\u001b[0;34m\u001b[0m\u001b[0;34m\u001b[0m\u001b[0m\n\u001b[0m",
      "\u001b[0;32m~/miniconda3/envs/py37_dev/lib/python3.7/site-packages/pliers/extractors/api/clarifai.py\u001b[0m in \u001b[0;36m__init__\u001b[0;34m(self, api_key, model, min_value, max_concepts, select_concepts, rate_limit, batch_size)\u001b[0m\n\u001b[1;32m    162\u001b[0m                              \u001b[0mselect_concepts\u001b[0m\u001b[0;34m=\u001b[0m\u001b[0mselect_concepts\u001b[0m\u001b[0;34m,\u001b[0m\u001b[0;34m\u001b[0m\u001b[0;34m\u001b[0m\u001b[0m\n\u001b[1;32m    163\u001b[0m                              \u001b[0mrate_limit\u001b[0m\u001b[0;34m=\u001b[0m\u001b[0mrate_limit\u001b[0m\u001b[0;34m,\u001b[0m\u001b[0;34m\u001b[0m\u001b[0;34m\u001b[0m\u001b[0m\n\u001b[0;32m--> 164\u001b[0;31m                              batch_size=batch_size)\n\u001b[0m\u001b[1;32m    165\u001b[0m \u001b[0;34m\u001b[0m\u001b[0m\n\u001b[1;32m    166\u001b[0m     \u001b[0;32mdef\u001b[0m \u001b[0m_extract\u001b[0m\u001b[0;34m(\u001b[0m\u001b[0mself\u001b[0m\u001b[0;34m,\u001b[0m \u001b[0mstims\u001b[0m\u001b[0;34m)\u001b[0m\u001b[0;34m:\u001b[0m\u001b[0;34m\u001b[0m\u001b[0;34m\u001b[0m\u001b[0m\n",
      "\u001b[0;32m~/miniconda3/envs/py37_dev/lib/python3.7/site-packages/pliers/extractors/api/clarifai.py\u001b[0m in \u001b[0;36m__init__\u001b[0;34m(self, api_key, model, min_value, max_concepts, select_concepts, rate_limit, batch_size)\u001b[0m\n\u001b[1;32m     58\u001b[0m                 \u001b[0mapi_key\u001b[0m \u001b[0;34m=\u001b[0m \u001b[0mos\u001b[0m\u001b[0;34m.\u001b[0m\u001b[0menviron\u001b[0m\u001b[0;34m[\u001b[0m\u001b[0;34m'CLARIFAI_API_KEY'\u001b[0m\u001b[0;34m]\u001b[0m\u001b[0;34m\u001b[0m\u001b[0;34m\u001b[0m\u001b[0m\n\u001b[1;32m     59\u001b[0m             \u001b[0;32mexcept\u001b[0m \u001b[0mKeyError\u001b[0m\u001b[0;34m:\u001b[0m\u001b[0;34m\u001b[0m\u001b[0;34m\u001b[0m\u001b[0m\n\u001b[0;32m---> 60\u001b[0;31m                 raise ValueError(\"A valid Clarifai API API_KEY \"\n\u001b[0m\u001b[1;32m     61\u001b[0m                                  \u001b[0;34m\"must be passed the first time a Clarifai \"\u001b[0m\u001b[0;34m\u001b[0m\u001b[0;34m\u001b[0m\u001b[0m\n\u001b[1;32m     62\u001b[0m                                  \"extractor is initialized.\")\n",
      "\u001b[0;31mValueError\u001b[0m: A valid Clarifai API API_KEY must be passed the first time a Clarifai extractor is initialized."
     ]
    }
   ],
   "source": [
    "from pliers.tests.utils import get_test_data_path\n",
    "from os.path import join\n",
    "from pliers.extractors import ChromaSTFTExtractor\n",
    "from pliers.filters import FrameSamplingFilter\n",
    "from pliers.extractors import ClarifaiAPIImageExtractor, merge_results\n",
    "ext = ClarifaiAPIImageExtractor()"
   ]
  },
  {
   "cell_type": "code",
   "execution_count": 27,
   "id": "b77783ab",
   "metadata": {},
   "outputs": [],
   "source": [
    "video = join(get_test_data_path(), 'video', 'stimuli_task-moviewatching_desc-koyaanisqatsi_movie.mp4')"
   ]
  },
  {
   "cell_type": "code",
   "execution_count": 28,
   "id": "69979e01",
   "metadata": {},
   "outputs": [
    {
     "data": {
      "text/plain": [
       "'/Users/Chelsea/miniconda3/envs/py37_dev/lib/python3.7/site-packages/pliers/tests/data/video/stimuli_task-moviewatching_desc-koyaanisqatsi_movie.mp4'"
      ]
     },
     "execution_count": 28,
     "metadata": {},
     "output_type": "execute_result"
    }
   ],
   "source": [
    "video"
   ]
  },
  {
   "cell_type": "code",
   "execution_count": 29,
   "id": "934c6939",
   "metadata": {},
   "outputs": [
    {
     "ename": "MissingDependencyError",
     "evalue": "\nclarifai.rest.client required to use this transformer, but could not be\nsuccessfully imported. Please make sure they are installed.\n",
     "output_type": "error",
     "traceback": [
      "\u001b[0;31m---------------------------------------------------------------------------\u001b[0m",
      "\u001b[0;31mMissingDependencyError\u001b[0m                    Traceback (most recent call last)",
      "\u001b[0;32m/var/folders/sq/z8rq9ws55k5d8bg1b1cyrjgr0000gp/T/ipykernel_26155/111951087.py\u001b[0m in \u001b[0;36m<module>\u001b[0;34m\u001b[0m\n\u001b[1;32m      5\u001b[0m \u001b[0mframes\u001b[0m \u001b[0;34m=\u001b[0m \u001b[0msampler\u001b[0m\u001b[0;34m.\u001b[0m\u001b[0mtransform\u001b[0m\u001b[0;34m(\u001b[0m\u001b[0mvideo\u001b[0m\u001b[0;34m)\u001b[0m\u001b[0;34m\u001b[0m\u001b[0;34m\u001b[0m\u001b[0m\n\u001b[1;32m      6\u001b[0m \u001b[0;34m\u001b[0m\u001b[0m\n\u001b[0;32m----> 7\u001b[0;31m \u001b[0mobj_ext\u001b[0m \u001b[0;34m=\u001b[0m \u001b[0mClarifaiAPIImageExtractor\u001b[0m\u001b[0;34m(\u001b[0m\u001b[0;34m)\u001b[0m\u001b[0;34m\u001b[0m\u001b[0;34m\u001b[0m\u001b[0m\n\u001b[0m\u001b[1;32m      8\u001b[0m \u001b[0mobj_features\u001b[0m \u001b[0;34m=\u001b[0m \u001b[0mobj_ext\u001b[0m\u001b[0;34m.\u001b[0m\u001b[0mtransform\u001b[0m\u001b[0;34m(\u001b[0m\u001b[0mframes\u001b[0m\u001b[0;34m)\u001b[0m\u001b[0;34m\u001b[0m\u001b[0;34m\u001b[0m\u001b[0m\n\u001b[1;32m      9\u001b[0m \u001b[0mfeatures\u001b[0m\u001b[0;34m.\u001b[0m\u001b[0mappend\u001b[0m\u001b[0;34m(\u001b[0m\u001b[0mobj_features\u001b[0m\u001b[0;34m)\u001b[0m\u001b[0;34m\u001b[0m\u001b[0;34m\u001b[0m\u001b[0m\n",
      "\u001b[0;32m~/miniconda3/envs/py37_dev/lib/python3.7/site-packages/pliers/extractors/api/clarifai.py\u001b[0m in \u001b[0;36m__init__\u001b[0;34m(self, api_key, model, min_value, max_concepts, select_concepts, rate_limit, batch_size)\u001b[0m\n\u001b[1;32m    162\u001b[0m                              \u001b[0mselect_concepts\u001b[0m\u001b[0;34m=\u001b[0m\u001b[0mselect_concepts\u001b[0m\u001b[0;34m,\u001b[0m\u001b[0;34m\u001b[0m\u001b[0;34m\u001b[0m\u001b[0m\n\u001b[1;32m    163\u001b[0m                              \u001b[0mrate_limit\u001b[0m\u001b[0;34m=\u001b[0m\u001b[0mrate_limit\u001b[0m\u001b[0;34m,\u001b[0m\u001b[0;34m\u001b[0m\u001b[0;34m\u001b[0m\u001b[0m\n\u001b[0;32m--> 164\u001b[0;31m                              batch_size=batch_size)\n\u001b[0m\u001b[1;32m    165\u001b[0m \u001b[0;34m\u001b[0m\u001b[0m\n\u001b[1;32m    166\u001b[0m     \u001b[0;32mdef\u001b[0m \u001b[0m_extract\u001b[0m\u001b[0;34m(\u001b[0m\u001b[0mself\u001b[0m\u001b[0;34m,\u001b[0m \u001b[0mstims\u001b[0m\u001b[0;34m)\u001b[0m\u001b[0;34m:\u001b[0m\u001b[0;34m\u001b[0m\u001b[0;34m\u001b[0m\u001b[0m\n",
      "\u001b[0;32m~/miniconda3/envs/py37_dev/lib/python3.7/site-packages/pliers/extractors/api/clarifai.py\u001b[0m in \u001b[0;36m__init__\u001b[0;34m(self, api_key, model, min_value, max_concepts, select_concepts, rate_limit, batch_size)\u001b[0m\n\u001b[1;32m     53\u001b[0m                  \u001b[0mmax_concepts\u001b[0m\u001b[0;34m=\u001b[0m\u001b[0;32mNone\u001b[0m\u001b[0;34m,\u001b[0m \u001b[0mselect_concepts\u001b[0m\u001b[0;34m=\u001b[0m\u001b[0;32mNone\u001b[0m\u001b[0;34m,\u001b[0m \u001b[0mrate_limit\u001b[0m\u001b[0;34m=\u001b[0m\u001b[0;32mNone\u001b[0m\u001b[0;34m,\u001b[0m\u001b[0;34m\u001b[0m\u001b[0;34m\u001b[0m\u001b[0m\n\u001b[1;32m     54\u001b[0m                  batch_size=None):\n\u001b[0;32m---> 55\u001b[0;31m         \u001b[0mverify_dependencies\u001b[0m\u001b[0;34m(\u001b[0m\u001b[0;34m[\u001b[0m\u001b[0;34m'clarifai_client'\u001b[0m\u001b[0;34m]\u001b[0m\u001b[0;34m)\u001b[0m\u001b[0;34m\u001b[0m\u001b[0;34m\u001b[0m\u001b[0m\n\u001b[0m\u001b[1;32m     56\u001b[0m         \u001b[0;32mif\u001b[0m \u001b[0mapi_key\u001b[0m \u001b[0;32mis\u001b[0m \u001b[0;32mNone\u001b[0m\u001b[0;34m:\u001b[0m\u001b[0;34m\u001b[0m\u001b[0;34m\u001b[0m\u001b[0m\n\u001b[1;32m     57\u001b[0m             \u001b[0;32mtry\u001b[0m\u001b[0;34m:\u001b[0m\u001b[0;34m\u001b[0m\u001b[0;34m\u001b[0m\u001b[0m\n",
      "\u001b[0;32m~/miniconda3/envs/py37_dev/lib/python3.7/site-packages/pliers/utils/base.py\u001b[0m in \u001b[0;36mverify_dependencies\u001b[0;34m(dependencies)\u001b[0m\n\u001b[1;32m    122\u001b[0m             \u001b[0mmissing\u001b[0m\u001b[0;34m.\u001b[0m\u001b[0mappend\u001b[0m\u001b[0;34m(\u001b[0m\u001b[0mmodule_names\u001b[0m\u001b[0;34m[\u001b[0m\u001b[0mdep\u001b[0m\u001b[0;34m]\u001b[0m\u001b[0;34m.\u001b[0m\u001b[0mpackage\u001b[0m\u001b[0;34m)\u001b[0m\u001b[0;34m\u001b[0m\u001b[0;34m\u001b[0m\u001b[0m\n\u001b[1;32m    123\u001b[0m     \u001b[0;32mif\u001b[0m \u001b[0mmissing\u001b[0m\u001b[0;34m:\u001b[0m\u001b[0;34m\u001b[0m\u001b[0;34m\u001b[0m\u001b[0m\n\u001b[0;32m--> 124\u001b[0;31m         \u001b[0;32mraise\u001b[0m \u001b[0mMissingDependencyError\u001b[0m\u001b[0;34m(\u001b[0m\u001b[0mmissing\u001b[0m\u001b[0;34m)\u001b[0m\u001b[0;34m\u001b[0m\u001b[0;34m\u001b[0m\u001b[0m\n\u001b[0m\u001b[1;32m    125\u001b[0m \u001b[0;34m\u001b[0m\u001b[0m\n\u001b[1;32m    126\u001b[0m \u001b[0;34m\u001b[0m\u001b[0m\n",
      "\u001b[0;31mMissingDependencyError\u001b[0m: \nclarifai.rest.client required to use this transformer, but could not be\nsuccessfully imported. Please make sure they are installed.\n"
     ]
    }
   ],
   "source": [
    "features = []\n",
    "\n",
    "# Sample video frames and apply impate-based extractors\n",
    "sampler = FrameSamplingFilter(every=10) # every 10 seconds\n",
    "frames = sampler.transform(video)\n",
    "\n",
    "obj_ext = ClarifaiAPIImageExtractor()\n",
    "obj_features = obj_ext.transform(frames)\n",
    "features.append(obj_features)\n",
    "\n",
    "face_ext = GoogleVisionAPIFaceExtractor()\n",
    "face_features = face_ext.transform(frames)\n",
    "features.append(face_features)"
   ]
  },
  {
   "cell_type": "code",
   "execution_count": null,
   "id": "a45b31b6",
   "metadata": {},
   "outputs": [],
   "source": []
  },
  {
   "cell_type": "code",
   "execution_count": null,
   "id": "61383608",
   "metadata": {},
   "outputs": [],
   "source": []
  }
 ],
 "metadata": {
  "kernelspec": {
   "display_name": "Python 3 (ipykernel)",
   "language": "python",
   "name": "python3"
  },
  "language_info": {
   "codemirror_mode": {
    "name": "ipython",
    "version": 3
   },
   "file_extension": ".py",
   "mimetype": "text/x-python",
   "name": "python",
   "nbconvert_exporter": "python",
   "pygments_lexer": "ipython3",
   "version": "3.7.12"
  }
 },
 "nbformat": 4,
 "nbformat_minor": 5
}
