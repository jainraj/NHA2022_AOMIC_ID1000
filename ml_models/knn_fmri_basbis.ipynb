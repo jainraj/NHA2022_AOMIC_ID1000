{
 "cells": [
  {
   "cell_type": "code",
   "execution_count": 2,
   "id": "0d30e268-045d-4b5a-9cfe-edfad784a504",
   "metadata": {},
   "outputs": [],
   "source": [
    "from sklearn.neighbors import KNeighborsRegressor\n",
    "from sklearn.preprocessing import MinMaxScaler\n",
    "from sklearn.metrics import r2_score"
   ]
  },
  {
   "cell_type": "code",
   "execution_count": 3,
   "id": "1888a949-4faa-4034-9534-816e6eea5c6e",
   "metadata": {},
   "outputs": [],
   "source": [
    "import pandas as pd\n",
    "import numpy as np\n",
    "from tqdm.notebook import tqdm\n",
    "import matplotlib.pyplot as plt"
   ]
  },
  {
   "cell_type": "code",
   "execution_count": 4,
   "id": "f3e4cd95-0ff0-4286-af90-fb5c315d965c",
   "metadata": {},
   "outputs": [],
   "source": [
    "features_ = pd.read_csv('../upperTriCorr.csv', index_col=0).set_index('participant_id')"
   ]
  },
  {
   "cell_type": "code",
   "execution_count": 5,
   "id": "8a97321e-8193-47d9-91a7-1c3643d6c85a",
   "metadata": {},
   "outputs": [],
   "source": [
    "targets_ = pd.read_csv('/home/jovyan/shared/ds003097/participants.tsv', delimiter='\\t').set_index('participant_id')\n",
    "targets_ = targets_.loc[features_.index]\n",
    "targets_ = targets_[['BAS_drive', 'BAS_fun', 'BAS_reward', 'BIS']]\n",
    "targets_['score'] = targets_.sum(axis=1)"
   ]
  },
  {
   "cell_type": "code",
   "execution_count": 6,
   "id": "a4dbf3d0-6a36-4b26-ada8-ed5c27d76838",
   "metadata": {},
   "outputs": [],
   "source": [
    "def get_score(n_neighbors, features, targets):\n",
    "    predictions, truths = [], []\n",
    "    for sub_id in features.index:\n",
    "        indexer = features.index == sub_id\n",
    "        X_train, y_train = features.loc[~indexer], targets.loc[~indexer]['score']\n",
    "        X_test,  y_test = features.loc[indexer], targets.loc[indexer]['score']\n",
    "        \n",
    "        scaler = MinMaxScaler()\n",
    "        y_train = scaler.fit_transform(y_train.values.reshape(-1, 1)).ravel()\n",
    "        y_test = scaler.transform(y_test.values.reshape(-1, 1)).ravel()\n",
    "        \n",
    "        regr = KNeighborsRegressor(n_neighbors=n_neighbors)\n",
    "        regr.fit(X_train, y_train)\n",
    "        prediction = regr.predict(X_test)\n",
    "        predictions.append(prediction)\n",
    "        truths.append(y_test)\n",
    "\n",
    "    predictions = np.array(predictions).reshape(-1)\n",
    "    truths = np.array(truths).reshape(-1)\n",
    "    return r2_score(truths, predictions)\n"
   ]
  },
  {
   "cell_type": "code",
   "execution_count": 9,
   "id": "d2345c8f-80cc-4cf2-8374-7d6187e0352f",
   "metadata": {},
   "outputs": [
    {
     "name": "stdout",
     "output_type": "stream",
     "text": [
      "n_neighbors = 1, r^2 = -1.0070\n",
      "n_neighbors = 2, r^2 = 0.0034\n",
      "n_neighbors = 3, r^2 = 0.1958\n",
      "n_neighbors = 4, r^2 = 0.1490\n",
      "n_neighbors = 5, r^2 = 0.0945\n",
      "n_neighbors = 6, r^2 = 0.1463\n",
      "n_neighbors = 7, r^2 = 0.1383\n",
      "n_neighbors = 8, r^2 = 0.0724\n",
      "n_neighbors = 9, r^2 = 0.0831\n",
      "n_neighbors = 10, r^2 = 0.1505\n",
      "n_neighbors = 11, r^2 = 0.1340\n",
      "n_neighbors = 12, r^2 = 0.1209\n",
      "n_neighbors = 13, r^2 = 0.1076\n",
      "n_neighbors = 14, r^2 = 0.0863\n",
      "n_neighbors = 15, r^2 = 0.1062\n"
     ]
    }
   ],
   "source": [
    "for n_neighbors in range(1, 16):\n",
    "    score = get_score(n_neighbors, features_, targets_)\n",
    "    print(f'n_neighbors = {n_neighbors}, r^2 = {score:.4f}')"
   ]
  },
  {
   "cell_type": "markdown",
   "id": "b66c1d67-352c-4d9b-acf9-31f8fb729177",
   "metadata": {
    "jp-MarkdownHeadingCollapsed": true,
    "tags": []
   },
   "source": [
    "#### We will choose n_neighbors = 3"
   ]
  },
  {
   "cell_type": "markdown",
   "id": "3e14fede-c8e9-48bc-bb47-4416a1f33bef",
   "metadata": {},
   "source": [
    "## Permutation Test"
   ]
  },
  {
   "cell_type": "code",
   "execution_count": 10,
   "id": "c3742d85-c4de-492f-aa08-513925c88d90",
   "metadata": {},
   "outputs": [
    {
     "data": {
      "application/vnd.jupyter.widget-view+json": {
       "model_id": "390d0db24eee43378ee46adbda1a7cee",
       "version_major": 2,
       "version_minor": 0
      },
      "text/plain": [
       "  0%|          | 0/100 [00:00<?, ?it/s]"
      ]
     },
     "metadata": {},
     "output_type": "display_data"
    }
   ],
   "source": [
    "rng = np.random.default_rng(0)\n",
    "\n",
    "scores = []\n",
    "for _ in tqdm(range(100)):\n",
    "    indexes = list(range(len(features_)))\n",
    "    rng.shuffle(indexes)\n",
    "    if indexes == list(range(len(features_))):\n",
    "        continue\n",
    "    targets = targets_.iloc[indexes]\n",
    "    score = get_score(3, features_, targets)\n",
    "    scores.append(score)\n"
   ]
  },
  {
   "cell_type": "code",
   "execution_count": 11,
   "id": "685881f5-ba7c-4859-86f6-eb75783cdb3b",
   "metadata": {},
   "outputs": [
    {
     "data": {
      "text/plain": [
       "(array([ 1.,  2.,  6.,  9., 11., 18., 22., 15., 12.,  4.]),\n",
       " array([-0.78530725, -0.66024016, -0.53517308, -0.410106  , -0.28503891,\n",
       "        -0.15997183, -0.03490474,  0.09016234,  0.21522943,  0.34029651,\n",
       "         0.46536359]),\n",
       " <BarContainer object of 10 artists>)"
      ]
     },
     "execution_count": 11,
     "metadata": {},
     "output_type": "execute_result"
    },
    {
     "data": {
      "image/png": "[encoded data removed]",
      "text/plain": [
       "<Figure size 432x288 with 1 Axes>"
      ]
     },
     "metadata": {
      "needs_background": "light"
     },
     "output_type": "display_data"
    }
   ],
   "source": [
    "fig, ax = plt.subplots()\n",
    "ax.hist(scores)"
   ]
  },
  {
   "cell_type": "code",
   "execution_count": 13,
   "id": "2a702a08-a046-413f-960a-6d7a89d2fb59",
   "metadata": {},
   "outputs": [
    {
     "data": {
      "text/plain": [
       "0.17"
      ]
     },
     "execution_count": 13,
     "metadata": {},
     "output_type": "execute_result"
    }
   ],
   "source": [
    "len(list(filter(lambda x: x > 0.1958, scores))) / len(scores)"
   ]
  },
  {
   "cell_type": "code",
   "execution_count": null,
   "id": "cf9f2812-5549-4c63-abc1-4f2b9c27d5e5",
   "metadata": {},
   "outputs": [],
   "source": []
  }
 ],
 "metadata": {
  "kernelspec": {
   "display_name": "Python 3 (ipykernel)",
   "language": "python",
   "name": "python3"
  },
  "language_info": {
   "codemirror_mode": {
    "name": "ipython",
    "version": 3
   },
   "file_extension": ".py",
   "mimetype": "text/x-python",
   "name": "python",
   "nbconvert_exporter": "python",
   "pygments_lexer": "ipython3",
   "version": "3.7.12"
  }
 },
 "nbformat": 4,
 "nbformat_minor": 5
}
