{
 "cells": [
  {
   "cell_type": "code",
   "execution_count": 1,
   "id": "0d30e268-045d-4b5a-9cfe-edfad784a504",
   "metadata": {},
   "outputs": [],
   "source": [
    "from sklearn.svm import SVR\n",
    "from sklearn.preprocessing import MinMaxScaler\n",
    "from sklearn.metrics import r2_score"
   ]
  },
  {
   "cell_type": "code",
   "execution_count": 2,
   "id": "1888a949-4faa-4034-9534-816e6eea5c6e",
   "metadata": {},
   "outputs": [],
   "source": [
    "import pandas as pd\n",
    "import numpy as np\n",
    "from tqdm.notebook import tqdm\n",
    "import matplotlib.pyplot as plt"
   ]
  },
  {
   "cell_type": "code",
   "execution_count": 3,
   "id": "f3e4cd95-0ff0-4286-af90-fb5c315d965c",
   "metadata": {},
   "outputs": [],
   "source": [
    "features_ = pd.read_csv('../upperTriCorr.csv', index_col=0).set_index('participant_id')"
   ]
  },
  {
   "cell_type": "code",
   "execution_count": 4,
   "id": "8a97321e-8193-47d9-91a7-1c3643d6c85a",
   "metadata": {},
   "outputs": [],
   "source": [
    "targets_ = pd.read_csv('/home/jovyan/shared/ds003097/participants.tsv', delimiter='\\t').set_index('participant_id')\n",
    "targets_ = targets_.loc[features_.index]\n",
    "targets_ = targets_[['BAS_drive', 'BAS_fun', 'BAS_reward', 'BIS']]\n",
    "targets_['score'] = targets_.sum(axis=1)"
   ]
  },
  {
   "cell_type": "code",
   "execution_count": 5,
   "id": "a4dbf3d0-6a36-4b26-ada8-ed5c27d76838",
   "metadata": {},
   "outputs": [],
   "source": [
    "def get_score(C, features, targets):\n",
    "    predictions, truths = [], []\n",
    "    for sub_id in features.index:\n",
    "        indexer = features.index == sub_id\n",
    "        X_train, y_train = features.loc[~indexer], targets.loc[~indexer]['score']\n",
    "        X_test,  y_test = features.loc[indexer], targets.loc[indexer]['score']\n",
    "        \n",
    "        scaler = MinMaxScaler()\n",
    "        y_train = scaler.fit_transform(y_train.values.reshape(-1, 1)).ravel()\n",
    "        y_test = scaler.transform(y_test.values.reshape(-1, 1)).ravel()\n",
    "        \n",
    "        regr = SVR(C=C)\n",
    "        regr.fit(X_train, y_train)\n",
    "        prediction = regr.predict(X_test)\n",
    "        predictions.append(prediction)\n",
    "        truths.append(y_test)\n",
    "\n",
    "    predictions = np.array(predictions).reshape(-1)\n",
    "    truths = np.array(truths).reshape(-1)\n",
    "    return r2_score(truths, predictions)\n"
   ]
  },
  {
   "cell_type": "code",
   "execution_count": 6,
   "id": "d2345c8f-80cc-4cf2-8374-7d6187e0352f",
   "metadata": {},
   "outputs": [
    {
     "name": "stdout",
     "output_type": "stream",
     "text": [
      "C = 0.01, r^2 = 0.1548\n",
      "C = 0.1, r^2 = 0.1447\n",
      "C = 0.5, r^2 = 0.1940\n",
      "C = 1, r^2 = 0.2019\n",
      "C = 1.1, r^2 = 0.2035\n",
      "C = 1.2, r^2 = 0.2068\n",
      "C = 1.3, r^2 = 0.2068\n"
     ]
    }
   ],
   "source": [
    "for C in [0.01, 0.1, 0.5, 1, 1.1, 1.2, 1.3]:\n",
    "    score = get_score(C, features_, targets_)\n",
    "    print(f'C = {C}, r^2 = {score:.4f}')"
   ]
  },
  {
   "cell_type": "markdown",
   "id": "b66c1d67-352c-4d9b-acf9-31f8fb729177",
   "metadata": {
    "jp-MarkdownHeadingCollapsed": true,
    "tags": []
   },
   "source": [
    "#### We will choose C = 1.2"
   ]
  },
  {
   "cell_type": "markdown",
   "id": "3e14fede-c8e9-48bc-bb47-4416a1f33bef",
   "metadata": {},
   "source": [
    "## Permutation Test"
   ]
  },
  {
   "cell_type": "code",
   "execution_count": 7,
   "id": "c3742d85-c4de-492f-aa08-513925c88d90",
   "metadata": {},
   "outputs": [
    {
     "data": {
      "application/vnd.jupyter.widget-view+json": {
       "model_id": "b33a51cc0e5a46e698953f20e259fc77",
       "version_major": 2,
       "version_minor": 0
      },
      "text/plain": [
       "  0%|          | 0/100 [00:00<?, ?it/s]"
      ]
     },
     "metadata": {},
     "output_type": "display_data"
    }
   ],
   "source": [
    "rng = np.random.default_rng(0)\n",
    "\n",
    "scores = []\n",
    "for _ in tqdm(range(100)):\n",
    "    indexes = list(range(len(features_)))\n",
    "    rng.shuffle(indexes)\n",
    "    if indexes == list(range(len(features_))):\n",
    "        continue\n",
    "    targets = targets_.iloc[indexes]\n",
    "    score = get_score(1.2, features_, targets)\n",
    "    scores.append(score)\n"
   ]
  },
  {
   "cell_type": "code",
   "execution_count": 8,
   "id": "685881f5-ba7c-4859-86f6-eb75783cdb3b",
   "metadata": {},
   "outputs": [
    {
     "data": {
      "text/plain": [
       "(array([ 2.,  2., 14., 16., 16., 22., 17.,  5.,  5.,  1.]),\n",
       " array([-0.2267242 , -0.16339123, -0.10005826, -0.03672529,  0.02660769,\n",
       "         0.08994066,  0.15327363,  0.2166066 ,  0.27993957,  0.34327254,\n",
       "         0.40660551]),\n",
       " <BarContainer object of 10 artists>)"
      ]
     },
     "execution_count": 8,
     "metadata": {},
     "output_type": "execute_result"
    },
    {
     "data": {
      "image/png": "[encoded data removed]",
      "text/plain": [
       "<Figure size 432x288 with 1 Axes>"
      ]
     },
     "metadata": {
      "needs_background": "light"
     },
     "output_type": "display_data"
    }
   ],
   "source": [
    "fig, ax = plt.subplots()\n",
    "ax.hist(scores)"
   ]
  },
  {
   "cell_type": "code",
   "execution_count": 9,
   "id": "2a702a08-a046-413f-960a-6d7a89d2fb59",
   "metadata": {},
   "outputs": [
    {
     "data": {
      "text/plain": [
       "0.12"
      ]
     },
     "execution_count": 9,
     "metadata": {},
     "output_type": "execute_result"
    }
   ],
   "source": [
    "len(list(filter(lambda x: x > 0.2068, scores))) / len(scores)"
   ]
  },
  {
   "cell_type": "code",
   "execution_count": null,
   "id": "cf9f2812-5549-4c63-abc1-4f2b9c27d5e5",
   "metadata": {},
   "outputs": [],
   "source": []
  }
 ],
 "metadata": {
  "kernelspec": {
   "display_name": "Python 3 (ipykernel)",
   "language": "python",
   "name": "python3"
  },
  "language_info": {
   "codemirror_mode": {
    "name": "ipython",
    "version": 3
   },
   "file_extension": ".py",
   "mimetype": "text/x-python",
   "name": "python",
   "nbconvert_exporter": "python",
   "pygments_lexer": "ipython3",
   "version": "3.7.12"
  }
 },
 "nbformat": 4,
 "nbformat_minor": 5
}
