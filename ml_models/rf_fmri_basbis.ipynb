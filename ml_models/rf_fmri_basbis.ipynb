{
 "cells": [
  {
   "cell_type": "code",
   "execution_count": 1,
   "id": "0d30e268-045d-4b5a-9cfe-edfad784a504",
   "metadata": {},
   "outputs": [],
   "source": [
    "from sklearn.ensemble import RandomForestRegressor\n",
    "from sklearn.preprocessing import MinMaxScaler\n",
    "from sklearn.metrics import r2_score"
   ]
  },
  {
   "cell_type": "code",
   "execution_count": 13,
   "id": "1888a949-4faa-4034-9534-816e6eea5c6e",
   "metadata": {},
   "outputs": [],
   "source": [
    "import pandas as pd\n",
    "import numpy as np\n",
    "from tqdm.notebook import tqdm\n",
    "import matplotlib.pyplot as plt"
   ]
  },
  {
   "cell_type": "code",
   "execution_count": 3,
   "id": "f3e4cd95-0ff0-4286-af90-fb5c315d965c",
   "metadata": {},
   "outputs": [],
   "source": [
    "features_ = pd.read_csv('../upperTriCorr.csv', index_col=0).set_index('participant_id')"
   ]
  },
  {
   "cell_type": "code",
   "execution_count": 4,
   "id": "8a97321e-8193-47d9-91a7-1c3643d6c85a",
   "metadata": {},
   "outputs": [],
   "source": [
    "targets_ = pd.read_csv('/home/jovyan/shared/ds003097/participants.tsv', delimiter='\\t').set_index('participant_id')\n",
    "targets_ = targets_.loc[features_.index]\n",
    "targets_ = targets_[['BAS_drive', 'BAS_fun', 'BAS_reward', 'BIS']]\n",
    "targets_['score'] = targets_.sum(axis=1)"
   ]
  },
  {
   "cell_type": "code",
   "execution_count": 7,
   "id": "a4dbf3d0-6a36-4b26-ada8-ed5c27d76838",
   "metadata": {},
   "outputs": [],
   "source": [
    "def get_score(max_depth, features, targets):\n",
    "    predictions, truths = [], []\n",
    "    for sub_id in features.index:\n",
    "        indexer = features.index == sub_id\n",
    "        X_train, y_train = features.loc[~indexer], targets.loc[~indexer]['score']\n",
    "        X_test,  y_test = features.loc[indexer], targets.loc[indexer]['score']\n",
    "        \n",
    "        scaler = MinMaxScaler()\n",
    "        y_train = scaler.fit_transform(y_train.values.reshape(-1, 1)).ravel()\n",
    "        y_test = scaler.transform(y_test.values.reshape(-1, 1)).ravel()\n",
    "        \n",
    "        regr = RandomForestRegressor(max_depth=max_depth, random_state=0)\n",
    "        regr.fit(X_train, y_train)\n",
    "        prediction = regr.predict(X_test)\n",
    "        predictions.append(prediction)\n",
    "        truths.append(y_test)\n",
    "\n",
    "    predictions = np.array(predictions).reshape(-1)\n",
    "    truths = np.array(truths).reshape(-1)\n",
    "    return r2_score(truths, predictions)\n"
   ]
  },
  {
   "cell_type": "code",
   "execution_count": 8,
   "id": "d2345c8f-80cc-4cf2-8374-7d6187e0352f",
   "metadata": {},
   "outputs": [
    {
     "name": "stdout",
     "output_type": "stream",
     "text": [
      "max_depth = 1, score = 0.1314\n",
      "max_depth = 2, score = 0.1097\n",
      "max_depth = 3, score = 0.1275\n",
      "max_depth = 4, score = 0.1296\n",
      "max_depth = 5, score = 0.1289\n",
      "max_depth = 6, score = 0.1289\n",
      "max_depth = 7, score = 0.1289\n",
      "max_depth = 8, score = 0.1289\n"
     ]
    }
   ],
   "source": [
    "for max_depth in [1, 2, 3, 4, 5, 6, 7, 8]:\n",
    "    score = get_score(max_depth, features_, targets_)\n",
    "    print(f'max_depth = {max_depth}, r^2 = {score:.4f}')"
   ]
  },
  {
   "cell_type": "markdown",
   "id": "b66c1d67-352c-4d9b-acf9-31f8fb729177",
   "metadata": {
    "jp-MarkdownHeadingCollapsed": true,
    "tags": []
   },
   "source": [
    "#### We will choose max_depth = 1"
   ]
  },
  {
   "cell_type": "markdown",
   "id": "3e14fede-c8e9-48bc-bb47-4416a1f33bef",
   "metadata": {
    "tags": []
   },
   "source": [
    "## Permutation Test"
   ]
  },
  {
   "cell_type": "code",
   "execution_count": 21,
   "id": "c3742d85-c4de-492f-aa08-513925c88d90",
   "metadata": {},
   "outputs": [
    {
     "data": {
      "application/vnd.jupyter.widget-view+json": {
       "model_id": "73a5b8bfdff743778ee88bdb6c0c1117",
       "version_major": 2,
       "version_minor": 0
      },
      "text/plain": [
       "  0%|          | 0/100 [00:00<?, ?it/s]"
      ]
     },
     "metadata": {},
     "output_type": "display_data"
    }
   ],
   "source": [
    "rng = np.random.default_rng(0)\n",
    "\n",
    "scores = []\n",
    "for _ in tqdm(range(100)):\n",
    "    indexes = list(range(len(features_)))\n",
    "    rng.shuffle(indexes)\n",
    "    if indexes == list(range(len(features_))):\n",
    "        continue\n",
    "    targets = targets_.iloc[indexes]\n",
    "    score = get_score(1, features_, targets)\n",
    "    scores.append(score)\n"
   ]
  },
  {
   "cell_type": "code",
   "execution_count": 16,
   "id": "685881f5-ba7c-4859-86f6-eb75783cdb3b",
   "metadata": {},
   "outputs": [
    {
     "data": {
      "text/plain": [
       "(array([ 1.,  3.,  4., 16., 13., 15., 21., 18.,  7.,  2.]),\n",
       " array([-0.17323995, -0.13049583, -0.0877517 , -0.04500757, -0.00226344,\n",
       "         0.04048068,  0.08322481,  0.12596894,  0.16871307,  0.2114572 ,\n",
       "         0.25420132]),\n",
       " <BarContainer object of 10 artists>)"
      ]
     },
     "execution_count": 16,
     "metadata": {},
     "output_type": "execute_result"
    },
    {
     "data": {
      "image/png": "[encoded data removed]",
      "text/plain": [
       "<Figure size 432x288 with 1 Axes>"
      ]
     },
     "metadata": {
      "needs_background": "light"
     },
     "output_type": "display_data"
    }
   ],
   "source": [
    "fig, ax = plt.subplots()\n",
    "ax.hist(scores)"
   ]
  },
  {
   "cell_type": "code",
   "execution_count": null,
   "id": "2a702a08-a046-413f-960a-6d7a89d2fb59",
   "metadata": {},
   "outputs": [],
   "source": [
    "len(list(filter(lambda x: x > 0.1314, scores))) / len(scores)"
   ]
  },
  {
   "cell_type": "code",
   "execution_count": null,
   "id": "cf9f2812-5549-4c63-abc1-4f2b9c27d5e5",
   "metadata": {},
   "outputs": [],
   "source": []
  }
 ],
 "metadata": {
  "kernelspec": {
   "display_name": "Python 3 (ipykernel)",
   "language": "python",
   "name": "python3"
  },
  "language_info": {
   "codemirror_mode": {
    "name": "ipython",
    "version": 3
   },
   "file_extension": ".py",
   "mimetype": "text/x-python",
   "name": "python",
   "nbconvert_exporter": "python",
   "pygments_lexer": "ipython3",
   "version": "3.7.12"
  }
 },
 "nbformat": 4,
 "nbformat_minor": 5
}
