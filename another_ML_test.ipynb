{
 "cells": [
  {
   "cell_type": "code",
   "execution_count": 1,
   "id": "69854075",
   "metadata": {},
   "outputs": [],
   "source": [
    "import numpy as np"
   ]
  },
  {
   "cell_type": "code",
   "execution_count": 2,
   "id": "805d33ac",
   "metadata": {},
   "outputs": [],
   "source": [
    "import pandas as pd\n",
    "import numpy as np \n",
    "\n",
    "from sklearn.model_selection import train_test_split, GridSearchCV, KFold\n",
    "from sklearn.metrics import mean_squared_error, r2_score\n",
    "from sklearn.linear_model import Ridge\n",
    "from sklearn.preprocessing import StandardScaler\n",
    "from statistics import mean"
   ]
  },
  {
   "cell_type": "code",
   "execution_count": 3,
   "id": "d0b4ef43",
   "metadata": {},
   "outputs": [],
   "source": [
    "windowed_cms = np.load('windowed_cms.npy')"
   ]
  },
  {
   "cell_type": "code",
   "execution_count": 4,
   "id": "b69b696b",
   "metadata": {},
   "outputs": [
    {
     "data": {
      "text/plain": [
       "(16, 141, 64, 64)"
      ]
     },
     "execution_count": 4,
     "metadata": {},
     "output_type": "execute_result"
    }
   ],
   "source": [
    "windowed_cms.shape"
   ]
  },
  {
   "cell_type": "code",
   "execution_count": 5,
   "id": "186df9c8",
   "metadata": {},
   "outputs": [],
   "source": [
    "uppers = []\n",
    "\n",
    "for first in range(windowed_cms.shape[0]):\n",
    "    for second in range(windowed_cms.shape[1]):\n",
    "        one_matrix = windowed_cms[first, second, :, :]\n",
    "        upper = one_matrix[np.triu_indices(one_matrix.shape[0], k=1)]\n",
    "        uppers.append(upper)\n",
    "\n",
    "all_data = np.stack(uppers, axis=0)"
   ]
  },
  {
   "cell_type": "code",
   "execution_count": 6,
   "id": "e532412a",
   "metadata": {},
   "outputs": [
    {
     "data": {
      "text/plain": [
       "(2256, 2016)"
      ]
     },
     "execution_count": 6,
     "metadata": {},
     "output_type": "execute_result"
    }
   ],
   "source": [
    "all_data.shape"
   ]
  },
  {
   "cell_type": "code",
   "execution_count": 7,
   "id": "2d65a249",
   "metadata": {},
   "outputs": [],
   "source": [
    "scaler = StandardScaler()\n",
    "all_data = scaler.fit_transform(all_data) "
   ]
  },
  {
   "cell_type": "code",
   "execution_count": 8,
   "id": "e7e401f0",
   "metadata": {},
   "outputs": [],
   "source": [
    "audio_features = np.load('mean_slices_audio_features.npy')"
   ]
  },
  {
   "cell_type": "code",
   "execution_count": 9,
   "id": "de6096ae",
   "metadata": {},
   "outputs": [],
   "source": [
    "audio_features_all = np.tile(audio_features,(16,1)).flatten()"
   ]
  },
  {
   "cell_type": "code",
   "execution_count": 10,
   "id": "ae21541d",
   "metadata": {},
   "outputs": [
    {
     "name": "stdout",
     "output_type": "stream",
     "text": [
      "Ridge(alpha=100, solver='sag')\n",
      "0.0056843167539375825\n",
      "Ridge(alpha=100, solver='cholesky')\n",
      "0.007377195833440658\n",
      "Ridge(alpha=100, solver='sag')\n",
      "0.00737374604052914\n",
      "Ridge(alpha=100, solver='sag')\n",
      "0.00614320039227296\n",
      "Ridge(alpha=100, solver='sag')\n",
      "0.006660495471805732\n",
      "Mean MSE:  0.006647790898397215\n"
     ]
    }
   ],
   "source": [
    "# Nested Cross Validation\n",
    "kfold = KFold(n_splits=5)\n",
    "masks = []\n",
    "\n",
    "list_mse = []\n",
    "for i, (train_indexes, test_indexes) in enumerate(kfold.split(all_data)):\n",
    "    \n",
    "    X_train = all_data[train_indexes]\n",
    "    X_test = all_data[test_indexes]\n",
    "    \n",
    "    y_train = audio_features_all[train_indexes]\n",
    "    y_test = audio_features_all[test_indexes]\n",
    "    \n",
    "    params = {'alpha':[0.0001, 0.001, 0.01, 0.1, 1, 10, 100], 'solver':['sparse_cg', 'cholesky','sag']}\n",
    "\n",
    "    regr_model = Ridge()\n",
    "    # scoring: for Train scores\n",
    "    params_search = GridSearchCV(regr_model, params, scoring='neg_mean_squared_error',cv=5)\n",
    "\n",
    "    params_search.fit(X_train, y_train)\n",
    "    print(params_search.best_estimator_)\n",
    "    \n",
    "    temp_pred = params_search.predict(X_test)\n",
    "    mse = mean_squared_error(y_test, temp_pred)\n",
    "    print(mse)\n",
    "    \n",
    "    list_mse.append(mse)\n",
    "\n",
    "print('Mean MSE: ', mean(list_mse))"
   ]
  },
  {
   "cell_type": "code",
   "execution_count": null,
   "id": "1f6a45a6",
   "metadata": {},
   "outputs": [],
   "source": []
  }
 ],
 "metadata": {
  "kernelspec": {
   "display_name": "Python 3 (ipykernel)",
   "language": "python",
   "name": "python3"
  },
  "language_info": {
   "codemirror_mode": {
    "name": "ipython",
    "version": 3
   },
   "file_extension": ".py",
   "mimetype": "text/x-python",
   "name": "python",
   "nbconvert_exporter": "python",
   "pygments_lexer": "ipython3",
   "version": "3.9.12"
  }
 },
 "nbformat": 4,
 "nbformat_minor": 5
}
