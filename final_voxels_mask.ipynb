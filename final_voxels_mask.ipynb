{
 "cells": [
  {
   "cell_type": "code",
   "execution_count": 37,
   "id": "3b5685b1-7b7a-4f7a-876c-dddc79bbb283",
   "metadata": {},
   "outputs": [],
   "source": [
    "import numpy as np\n",
    "import nibabel as nib\n",
    "import nilearn\n",
    "import nilearn.image\n",
    "import os"
   ]
  },
  {
   "cell_type": "code",
   "execution_count": 38,
   "id": "44bf2ab9-d661-4071-9820-b1db14058f28",
   "metadata": {},
   "outputs": [
    {
     "data": {
      "text/plain": [
       "array([[   4.,    0.,    0.,  -90.],\n",
       "       [   0.,    4.,    0., -126.],\n",
       "       [   0.,    0.,    4.,  -72.],\n",
       "       [   0.,    0.,    0.,    1.]])"
      ]
     },
     "execution_count": 38,
     "metadata": {},
     "output_type": "execute_result"
    }
   ],
   "source": [
    "# load neuroquery map\n",
    "img = nib.load(\"music_functional_connectivity.nii.gz\")\n",
    "img.shape #(46, 55, 46)\n",
    "img.affine"
   ]
  },
  {
   "cell_type": "code",
   "execution_count": 39,
   "id": "5793cbe1-e594-4504-af8d-7a4dcdac6d40",
   "metadata": {},
   "outputs": [],
   "source": [
    "# load the functional data\n",
    "sub_peek = '0001'\n",
    "func = f'../shared/ds003097/derivatives/fmriprep/sub-{sub_peek}/func/sub-{sub_peek}_task-moviewatching_space-MNI152NLin2009cAsym_desc-preproc_bold.nii.gz'\n",
    "func_img = nib.load(func)"
   ]
  },
  {
   "cell_type": "code",
   "execution_count": 40,
   "id": "2e45c83e-7cff-4417-864f-248832dcb24a",
   "metadata": {},
   "outputs": [
    {
     "data": {
      "text/plain": [
       "<nibabel.nifti1.Nifti1Image at 0x7f1c86350ad0>"
      ]
     },
     "execution_count": 40,
     "metadata": {},
     "output_type": "execute_result"
    }
   ],
   "source": [
    "#resample to the same space\n",
    "resampled = nilearn.image.resample_img(img, target_affine=func_img.affine, target_shape= (60, 77, 65))\n",
    "resampled"
   ]
  },
  {
   "cell_type": "code",
   "execution_count": 41,
   "id": "50c644e4-f611-4d37-8de7-72c7fb5ced48",
   "metadata": {},
   "outputs": [
    {
     "name": "stderr",
     "output_type": "stream",
     "text": [
      "/srv/conda/envs/notebook/lib/python3.7/site-packages/ipyvolume/serialize.py:92: RuntimeWarning: invalid value encountered in true_divide\n",
      "  gradient = gradient / np.sqrt(gradient[0] ** 2 + gradient[1] ** 2 + gradient[2] ** 2)\n"
     ]
    },
    {
     "data": {
      "application/vnd.jupyter.widget-view+json": {
       "model_id": "9f8753bdd0fb40f9b9d7c93c70b09285",
       "version_major": 2,
       "version_minor": 0
      },
      "text/plain": [
       "VBox(children=(VBox(children=(HBox(children=(Label(value='levels:'), FloatSlider(value=0.1, max=1.0, step=0.00…"
      ]
     },
     "metadata": {},
     "output_type": "display_data"
    }
   ],
   "source": [
    "import ipyvolume as ipv\n",
    "array_mask = resampled.get_fdata() > 6.5\n",
    "ipv.quickvolshow(array_mask)"
   ]
  },
  {
   "cell_type": "code",
   "execution_count": 42,
   "id": "129ad993-ad26-4381-9c62-deac214f184a",
   "metadata": {},
   "outputs": [
    {
     "data": {
      "text/plain": [
       "array([0., 1.])"
      ]
     },
     "execution_count": 42,
     "metadata": {},
     "output_type": "execute_result"
    }
   ],
   "source": [
    "## be careful, running this cell twice will give incorrect results!\n",
    "\n",
    "# make boolean, threshold on 6.5\n",
    "resampled.get_fdata()[resampled.get_fdata() < 6.5] = 0\n",
    "resampled.get_fdata()[resampled.get_fdata() > 6.5] = 1\n",
    "\n",
    "# sanity check\n",
    "np.unique(resampled.get_fdata())"
   ]
  },
  {
   "cell_type": "code",
   "execution_count": 43,
   "id": "0f463670-42c1-4cd8-ac2b-ceea3126f7bf",
   "metadata": {},
   "outputs": [],
   "source": [
    "final_img = nib.Nifti1Image(resampled.get_fdata(), resampled.affine, resampled.header)\n",
    "nib.save(final_img, 'final_mask.nii.gz')"
   ]
  },
  {
   "cell_type": "code",
   "execution_count": 44,
   "id": "6b86c75e-40eb-4fae-bf86-b99862b31825",
   "metadata": {},
   "outputs": [],
   "source": [
    "# apply mask to functional data\n",
    "from nilearn.input_data import NiftiMasker\n",
    "\n",
    "func_file = func\n",
    "mask_file = 'final_mask.nii.gz'\n",
    "\n",
    "masker = NiftiMasker(mask_img=mask_file)\n",
    "\n",
    "func_data = masker.fit_transform(func_file)"
   ]
  },
  {
   "cell_type": "code",
   "execution_count": 45,
   "id": "bb526e25-152a-4761-bc92-fcbc2f6f6a7f",
   "metadata": {},
   "outputs": [
    {
     "data": {
      "text/plain": [
       "array([[31505.65 , 32804.855, 37233.28 , ..., 22785.076, 29876.473,\n",
       "        29123.264],\n",
       "       [31777.691, 32373.115, 37552.26 , ..., 22278.947, 29481.477,\n",
       "        29060.377],\n",
       "       [31567.66 , 32282.082, 37078.734, ..., 22238.963, 29706.92 ,\n",
       "        28748.23 ],\n",
       "       ...,\n",
       "       [32367.734, 31948.363, 37147.734, ..., 22882.15 , 28745.475,\n",
       "        29669.377],\n",
       "       [32352.63 , 31625.865, 37094.21 , ..., 23288.795, 28722.404,\n",
       "        29849.08 ],\n",
       "       [32987.203, 31944.975, 37359.883, ..., 22808.258, 28740.785,\n",
       "        29646.963]], dtype=float32)"
      ]
     },
     "execution_count": 45,
     "metadata": {},
     "output_type": "execute_result"
    }
   ],
   "source": [
    "func_data"
   ]
  },
  {
   "cell_type": "code",
   "execution_count": 47,
   "id": "5c91aede-749e-4487-96e6-105dca26826d",
   "metadata": {},
   "outputs": [
    {
     "data": {
      "text/plain": [
       "array([31480.63 , 31470.809, 31464.06 , 31531.045, 31618.418, 31528.172,\n",
       "       31502.094, 31539.242, 31581.893, 31618.934, 31498.203, 31538.033,\n",
       "       31567.33 , 31594.312, 31547.756, 31592.63 , 31543.172, 31588.723,\n",
       "       31542.02 , 31569.93 , 31546.1  , 31626.977, 31582.148, 31581.44 ,\n",
       "       31548.014, 31603.582, 31670.674, 31614.777, 31568.832, 31583.002,\n",
       "       31589.186, 31637.508, 31703.613, 31562.479, 31554.494, 31632.32 ,\n",
       "       31602.705, 31578.473, 31557.7  , 31670.096, 31545.273, 31599.125,\n",
       "       31554.492, 31533.148, 31533.666, 31659.389, 31498.215, 31771.486,\n",
       "       31556.758, 31529.04 , 31547.525, 31624.38 , 31593.059, 31576.889,\n",
       "       31649.518, 31637.068, 31595.104, 31461.49 , 31546.115, 31509.936,\n",
       "       31463.08 , 31536.854, 31611.102, 31606.771, 31622.088, 31526.941,\n",
       "       31474.63 , 31547.057, 31543.43 , 31564.826, 31554.748, 31581.336,\n",
       "       31563.23 , 31477.008, 31440.338, 31441.727, 31383.016, 31399.502,\n",
       "       31449.734, 31425.582, 31389.445, 31396.574, 31382.146, 31406.697,\n",
       "       31449.78 , 31458.193, 31516.297, 31558.697, 31500.352, 31456.48 ,\n",
       "       31468.621, 31507.22 , 31468.287, 31450.648, 31562.205, 31563.021,\n",
       "       31460.295, 31510.156, 31512.934, 31437.223, 31408.889, 31436.973,\n",
       "       31435.332, 31391.566, 31524.51 , 31521.77 , 31507.33 , 31589.906,\n",
       "       31605.137, 31566.414, 31451.12 , 31419.445, 31509.559, 31543.312,\n",
       "       31511.69 , 31536.21 , 31508.688, 31539.953, 31538.13 , 31528.174,\n",
       "       31484.637, 31421.36 , 31432.441, 31501.656, 31528.066, 31407.549,\n",
       "       31445.375, 31458.992, 31473.23 , 31490.885, 31419.186, 31451.955,\n",
       "       31517.123, 31503.111, 31407.645, 31436.854, 31520.428, 31523.096,\n",
       "       31484.72 , 31435.045, 31503.342, 31484.63 , 31522.354, 31478.188,\n",
       "       31558.371, 31516.283, 31489.863, 31466.348, 31540.514, 31554.314,\n",
       "       31503.924, 31466.705, 31514.29 , 31568.648, 31556.164, 31508.527,\n",
       "       31521.906, 31457.291, 31434.332, 31523.068, 31554.768, 31529.238,\n",
       "       31564.824, 31575.346, 31528.326, 31528.977, 31570.877, 31618.037,\n",
       "       31487.6  , 31478.637, 31443.26 , 31392.88 , 31447.848, 31480.605,\n",
       "       31453.838, 31505.531, 31475.322, 31489.172, 31504.738, 31515.916,\n",
       "       31553.09 , 31580.654, 31483.566, 31599.445, 31547.44 , 31528.965,\n",
       "       31477.285, 31439.996, 31467.303, 31469.602, 31487.717, 31460.398,\n",
       "       31469.398, 31549.598, 31459.736, 31561.059, 31602.885, 31565.232,\n",
       "       31580.072, 31494.486, 31543.025, 31509.77 , 31589.986, 31510.871,\n",
       "       31504.625, 31507.367, 31459.693, 31436.004, 31425.416, 31446.441,\n",
       "       31427.469, 31439.379, 31419.613, 31505.875, 31514.46 , 31447.918,\n",
       "       31488.781, 31531.262, 31483.605, 31504.531, 31501.78 , 31495.13 ,\n",
       "       31467.223, 31481.271, 31458.93 , 31530.998, 31480.291, 31511.143,\n",
       "       31588.4  , 31482.965, 31492.076, 31495.7  , 31530.188, 31483.826,\n",
       "       31479.168, 31584.266, 31532.963, 31498.227, 31520.059, 31588.352,\n",
       "       31518.955, 31436.945, 31416.957, 31508.242, 31455.594, 31430.611,\n",
       "       31454.451, 31422.422, 31506.371, 31521.012, 31511.904, 31545.883,\n",
       "       31607.99 , 31497.295, 31434.861, 31449.004, 31533.027, 31579.02 ,\n",
       "       31505.943, 31541.252, 31601.818, 31582.621, 31476.   , 31471.826,\n",
       "       31502.975, 31491.68 , 31394.174, 31438.906, 31464.113, 31475.877,\n",
       "       31476.209, 31503.805, 31587.283, 31543.215, 31552.62 , 31558.234,\n",
       "       31580.195, 31621.83 , 31577.61 , 31600.   , 31595.68 , 31548.645,\n",
       "       31535.393, 31549.068, 31589.504, 31590.584, 31574.754, 31567.012,\n",
       "       31478.924, 31477.643], dtype=float32)"
      ]
     },
     "execution_count": 47,
     "metadata": {},
     "output_type": "execute_result"
    }
   ],
   "source": [
    "np.average(func_data, axis=1) #time series averaged over 425 voxels for 1 participant"
   ]
  },
  {
   "cell_type": "code",
   "execution_count": 48,
   "id": "fb62cf6e-da4e-4b86-af3e-d7bca50a185e",
   "metadata": {},
   "outputs": [
    {
     "data": {
      "text/plain": [
       "290"
      ]
     },
     "execution_count": 48,
     "metadata": {},
     "output_type": "execute_result"
    }
   ],
   "source": [
    "# sanity check, should give the number of trs\n",
    "len(np.average(func_data,axis=1))"
   ]
  },
  {
   "cell_type": "code",
   "execution_count": null,
   "id": "8cffe659-2ff5-4757-8e6a-3f2174d0ce0b",
   "metadata": {},
   "outputs": [],
   "source": []
  }
 ],
 "metadata": {
  "kernelspec": {
   "display_name": "Python 3 (ipykernel)",
   "language": "python",
   "name": "python3"
  },
  "language_info": {
   "codemirror_mode": {
    "name": "ipython",
    "version": 3
   },
   "file_extension": ".py",
   "mimetype": "text/x-python",
   "name": "python",
   "nbconvert_exporter": "python",
   "pygments_lexer": "ipython3",
   "version": "3.7.12"
  }
 },
 "nbformat": 4,
 "nbformat_minor": 5
}
