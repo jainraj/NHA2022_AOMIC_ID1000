{
 "cells": [
  {
   "cell_type": "code",
   "execution_count": null,
   "id": "79aed1af-de72-479f-bbc1-fcc685edd547",
   "metadata": {},
   "outputs": [],
   "source": [
    "!pip install pytorch-lightning==1.6.4"
   ]
  },
  {
   "cell_type": "code",
   "execution_count": 10,
   "id": "4455ed8f-0099-4cf5-97ea-85246f8937a9",
   "metadata": {},
   "outputs": [],
   "source": [
    "from pytorch_lightning import LightningModule\n",
    "from torch.nn import Conv2d, Tanh, Sequential, AvgPool3d, Linear"
   ]
  },
  {
   "cell_type": "code",
   "execution_count": 11,
   "id": "56323960-da9c-4060-87a5-dbe3e15d0f2e",
   "metadata": {},
   "outputs": [],
   "source": [
    "in_channels = 65  # third dimension number \n",
    "output_features = 5  # number of chroma features \n",
    "\n",
    "\n",
    "class LeNet(LightningModule):\n",
    "    def __init__():\n",
    "        super(LeNet, self).__init__()\n",
    "\n",
    "        self.feature_extractor = nn.Sequential(\n",
    "            nn.Conv2d(in_channels=in_channels, out_channels=6, kernel_size=5, stride=1),\n",
    "            nn.Tanh(),\n",
    "            nn.AvgPool2d(kernel_size=2),\n",
    "            nn.Conv2d(in_channels=6, out_channels=16, kernel_size=5, stride=1),\n",
    "            nn.Tanh(),\n",
    "            nn.AvgPool2d(kernel_size=2),\n",
    "            nn.Conv2d(in_channels=16, out_channels=120, kernel_size=5, stride=1),\n",
    "            nn.Tanh()\n",
    "        )\n",
    "\n",
    "        self.regressor = nn.Sequential(\n",
    "            nn.Linear(in_features=120, out_features=84),\n",
    "            nn.Tanh(),\n",
    "            nn.Linear(in_features=84, out_features=output_features),\n",
    "        )\n",
    "\n",
    "    def forward(self, x):\n",
    "        x = self.feature_extractor(x)\n",
    "        x = torch.flatten(x, 1)\n",
    "        x = self.regressor(x)\n",
    "    \n",
    "    def _common_step(self, batch, batch_idx, btype):\n",
    "        not_training = btype != 'train'\n",
    "        inpt, target = batch\n",
    "        pred = self(inpt)\n",
    "        loss = MSELoss()(pred, target)\n",
    "        self.log(f'{btype}/{btype}_loss', loss, on_step=False, on_epoch=True, prog_bar=True, logger=True, reduce_fx=torch.mean, sync_dist=not_training)\n",
    "        return loss\n",
    "    \n",
    "    def training_step(self, batch, batch_idx):\n",
    "        loss = self._common_step(batch, batch_idx, 'train')\n",
    "        return loss\n",
    "\n",
    "    def validation_step(self, batch, batch_idx):\n",
    "        self._common_step(batch, batch_idx, 'val')\n",
    "\n",
    "    def test_step(self, batch, batch_idx):\n",
    "        self._common_step(batch, batch_idx, 'test')\n",
    "\n",
    "    def configure_optimizers(self):\n",
    "        optimizer = Adam(self.parameters(), eps=1e-07, lr=1e-3, weight_decay=0)\n",
    "        return optimizer\n"
   ]
  },
  {
   "cell_type": "code",
   "execution_count": null,
   "id": "1a2dd77e-2e2e-45af-9980-16286de7f13b",
   "metadata": {},
   "outputs": [],
   "source": []
  }
 ],
 "metadata": {
  "kernelspec": {
   "display_name": "Python 3 (ipykernel)",
   "language": "python",
   "name": "python3"
  },
  "language_info": {
   "codemirror_mode": {
    "name": "ipython",
    "version": 3
   },
   "file_extension": ".py",
   "mimetype": "text/x-python",
   "name": "python",
   "nbconvert_exporter": "python",
   "pygments_lexer": "ipython3",
   "version": "3.7.12"
  }
 },
 "nbformat": 4,
 "nbformat_minor": 5
}
