{
 "cells": [
  {
   "cell_type": "code",
   "execution_count": 1,
   "id": "d83514fd-ad4b-49fb-8c6f-186ca8be2804",
   "metadata": {},
   "outputs": [],
   "source": [
    "import nibabel as nib\n",
    "import numpy as np\n",
    "from nilearn import datasets"
   ]
  },
  {
   "cell_type": "code",
   "execution_count": 2,
   "id": "a1e48f16-667a-45df-9732-69a0048b06eb",
   "metadata": {},
   "outputs": [],
   "source": [
    "sub = 'sub-0002'"
   ]
  },
  {
   "cell_type": "code",
   "execution_count": 3,
   "id": "b8e6a0a2-b205-486a-be6b-9a29a68c8e78",
   "metadata": {},
   "outputs": [],
   "source": [
    "fs_dir = '/home/jovyan/shared/ds003097/derivatives/freesurfer/'\n",
    "out_dir = '/home/jovyan/hack-qtab/NHA2022_AOMIC_ID1000/'\n",
    "fs_rawstats_dir = f'{fs_dir}{sub}/stats/'"
   ]
  },
  {
   "cell_type": "code",
   "execution_count": 4,
   "id": "d8d1b227-c2da-4901-b0f7-c071208a58d1",
   "metadata": {},
   "outputs": [],
   "source": [
    "# one way to read thickness (there are other files for other measures as well), but need to extract this within ROI\n",
    "anat_file = f'{fs_dir}{sub}/surf/lh.thickness'\n",
    "thickness = nib.freesurfer.io.read_morph_data(anat_file)"
   ]
  },
  {
   "cell_type": "code",
   "execution_count": 5,
   "id": "f9bd38bb-4015-4a94-8609-37aeb15479b8",
   "metadata": {},
   "outputs": [],
   "source": [
    "# this is how we read a surface based atlas, but couldn't figure out how to match the label to each vertex\n",
    "mask_file = f'{fs_dir}{sub}/label/lh.aparc.a2009s.annot'\n",
    "[vertices, label, colortable] = nib.freesurfer.io.read_annot(mask_file)"
   ]
  },
  {
   "cell_type": "code",
   "execution_count": 6,
   "id": "7d4342d7-88ef-41be-84ce-dd7e7ea5ae14",
   "metadata": {},
   "outputs": [
    {
     "data": {
      "text/plain": [
       "(133106,)"
      ]
     },
     "execution_count": 6,
     "metadata": {},
     "output_type": "execute_result"
    }
   ],
   "source": [
    "np.shape(vertices)"
   ]
  },
  {
   "cell_type": "code",
   "execution_count": 7,
   "id": "5ddfc329-65b4-4300-b7cc-b6c5a374dda8",
   "metadata": {},
   "outputs": [
    {
     "data": {
      "text/plain": [
       "(76, 5)"
      ]
     },
     "execution_count": 7,
     "metadata": {},
     "output_type": "execute_result"
    }
   ],
   "source": [
    "np.shape(label)"
   ]
  },
  {
   "cell_type": "code",
   "execution_count": 8,
   "id": "a5c8f0f5-8a0b-486b-9e04-c500d3139a90",
   "metadata": {},
   "outputs": [
    {
     "data": {
      "text/plain": [
       "(76,)"
      ]
     },
     "execution_count": 8,
     "metadata": {},
     "output_type": "execute_result"
    }
   ],
   "source": [
    "np.shape(colortable)"
   ]
  },
  {
   "cell_type": "code",
   "execution_count": 9,
   "id": "07a2f1d3-a805-4b0a-8f16-6a9b4426ee52",
   "metadata": {},
   "outputs": [
    {
     "data": {
      "text/plain": [
       "array([[       0,        0,        0,        0,        0],\n",
       "       [      23,      220,       60,        0,  3988503],\n",
       "       [      23,       60,      180,        0, 11811863],\n",
       "       [      63,      100,       60,        0,  3957823],\n",
       "       [      63,       20,      220,        0, 14423103],\n",
       "       [      13,        0,      250,        0, 16384013],\n",
       "       [      26,       60,        0,        0,    15386],\n",
       "       [      26,       60,       75,        0,  4930586],\n",
       "       [      26,       60,      150,        0,  9845786],\n",
       "       [      25,       60,      250,        0, 16399385],\n",
       "       [      60,       25,       25,        0,  1644860],\n",
       "       [     180,       20,       20,        0,  1316020],\n",
       "       [     220,       20,      100,        0,  6558940],\n",
       "       [     140,       60,       60,        0,  3947660],\n",
       "       [     180,      220,      140,        0,  9231540],\n",
       "       [     140,      100,      180,        0, 11822220],\n",
       "       [     180,       20,      140,        0,  9180340],\n",
       "       [      23,       10,       10,        0,   657943],\n",
       "       [     225,      140,      140,        0,  9211105],\n",
       "       [     180,       60,      180,        0, 11812020],\n",
       "       [      20,      220,       60,        0,  3988500],\n",
       "       [      60,       20,      140,        0,  9180220],\n",
       "       [     220,      180,      140,        0,  9221340],\n",
       "       [      65,      100,       20,        0,  1336385],\n",
       "       [     220,       60,       20,        0,  1326300],\n",
       "       [      20,       60,      220,        0, 14433300],\n",
       "       [     100,      100,       60,        0,  3957860],\n",
       "       [     220,      180,      220,        0, 14464220],\n",
       "       [      20,      180,      140,        0,  9221140],\n",
       "       [      60,      140,      180,        0, 11832380],\n",
       "       [      25,       20,      140,        0,  9180185],\n",
       "       [      20,       60,      100,        0,  6568980],\n",
       "       [      60,      220,       20,        0,  1367100],\n",
       "       [      60,       60,      220,        0, 14433340],\n",
       "       [     220,       60,      220,        0, 14433500],\n",
       "       [      65,      220,       60,        0,  3988545],\n",
       "       [      25,      140,       20,        0,  1346585],\n",
       "       [     220,      220,      100,        0,  6610140],\n",
       "       [     180,       60,       60,        0,  3947700],\n",
       "       [      61,       20,      220,        0, 14423101],\n",
       "       [      61,       20,       60,        0,  3937341],\n",
       "       [      61,       60,      100,        0,  6569021],\n",
       "       [      25,       25,       25,        0,  1644825],\n",
       "       [     140,       20,       60,        0,  3937420],\n",
       "       [     220,      180,       20,        0,  1357020],\n",
       "       [      63,      180,      180,        0, 11842623],\n",
       "       [     221,       20,       10,        0,   660701],\n",
       "       [     221,       20,      100,        0,  6558941],\n",
       "       [     221,       60,      140,        0,  9190621],\n",
       "       [     221,       20,      220,        0, 14423261],\n",
       "       [      61,      220,      220,        0, 14474301],\n",
       "       [     100,      200,      200,        0, 13158500],\n",
       "       [      10,      200,      200,        0, 13158410],\n",
       "       [     221,      220,       20,        0,  1367261],\n",
       "       [     141,       20,      100,        0,  6558861],\n",
       "       [      61,      220,      100,        0,  6609981],\n",
       "       [     141,       60,       20,        0,  1326221],\n",
       "       [     143,       20,      220,        0, 14423183],\n",
       "       [     101,       60,      220,        0, 14433381],\n",
       "       [      21,       20,      140,        0,  9180181],\n",
       "       [      61,       20,      180,        0, 11801661],\n",
       "       [     221,      140,       20,        0,  1346781],\n",
       "       [     141,      100,      220,        0, 14443661],\n",
       "       [     221,      100,       20,        0,  1336541],\n",
       "       [     181,      200,       20,        0,  1362101],\n",
       "       [     101,       20,       20,        0,  1315941],\n",
       "       [     101,      100,      180,        0, 11822181],\n",
       "       [     181,      220,       20,        0,  1367221],\n",
       "       [      21,      140,      200,        0, 13143061],\n",
       "       [      21,       20,      240,        0, 15733781],\n",
       "       [      21,       20,      200,        0, 13112341],\n",
       "       [      21,       20,       60,        0,  3937301],\n",
       "       [     101,       60,       60,        0,  3947621],\n",
       "       [      21,      180,      180,        0, 11842581],\n",
       "       [     223,      220,       60,        0,  3988703],\n",
       "       [     221,       60,       60,        0,  3947741]], dtype=int32)"
      ]
     },
     "execution_count": 9,
     "metadata": {},
     "output_type": "execute_result"
    }
   ],
   "source": [
    "label"
   ]
  },
  {
   "cell_type": "code",
   "execution_count": 10,
   "id": "ebad40eb-f61a-4a3b-80d3-a6eba2113cd1",
   "metadata": {},
   "outputs": [
    {
     "data": {
      "text/plain": [
       "['aseg.stats',\n",
       " 'lh.BA_exvivo.stats',\n",
       " 'lh.BA_exvivo.thresh.stats',\n",
       " 'lh.aparc.DKTatlas.stats',\n",
       " 'lh.aparc.a2009s.stats',\n",
       " 'lh.aparc.pial.stats',\n",
       " 'lh.aparc.stats',\n",
       " 'lh.curv.stats',\n",
       " 'lh.w-g.pct.stats',\n",
       " 'rh.BA_exvivo.stats',\n",
       " 'rh.BA_exvivo.thresh.stats',\n",
       " 'rh.aparc.DKTatlas.stats',\n",
       " 'rh.aparc.a2009s.stats',\n",
       " 'rh.aparc.pial.stats',\n",
       " 'rh.aparc.stats',\n",
       " 'rh.curv.stats',\n",
       " 'rh.w-g.pct.stats',\n",
       " 'wmparc.stats']"
      ]
     },
     "execution_count": 10,
     "metadata": {},
     "output_type": "execute_result"
    }
   ],
   "source": [
    "# Or, actually, all the anatomical stats are nicely saved in this folder\n",
    "import os\n",
    "os.listdir(fs_rawstats_dir)"
   ]
  },
  {
   "cell_type": "code",
   "execution_count": 11,
   "id": "a89ce5f0-5a9a-45ac-bad3-9ac2bb270f0f",
   "metadata": {},
   "outputs": [],
   "source": [
    "from itertools import islice\n",
    "n_lines = 75\n",
    "with open(os.path.join(fs_rawstats_dir, \"lh.aparc.a2009s.stats\")) as fs_stats_file:\n",
    "    first_n_lines = list(islice(fs_stats_file, n_lines))"
   ]
  },
  {
   "cell_type": "code",
   "execution_count": 12,
   "id": "6fc26968-bd67-49e5-b261-5fee6f121194",
   "metadata": {},
   "outputs": [
    {
     "data": {
      "text/plain": [
       "['# Table of FreeSurfer cortical parcellation anatomical statistics \\n',\n",
       " '# \\n',\n",
       " '# CreationTime 2019/09/14-20:21:29-GMT\\n',\n",
       " '# generating_program mris_anatomical_stats\\n',\n",
       " '# cvs_version $Id: mris_anatomical_stats.c,v 1.79 2016/03/14 15:15:34 greve Exp $\\n',\n",
       " '# mrisurf.c-cvs_version $Id: mrisurf.c,v 1.781.2.6 2016/12/27 16:47:14 zkaufman Exp $\\n',\n",
       " '# cmdline mris_anatomical_stats -th3 -mgz -cortex ../label/lh.cortex.label -f ../stats/lh.aparc.a2009s.stats -b -a ../label/lh.aparc.a2009s.annot -c ../label/aparc.annot.a2009s.ctab sub-0002 lh white \\n',\n",
       " '# sysname  Linux\\n',\n",
       " '# hostname 8289d144643e\\n',\n",
       " '# machine  x86_64\\n',\n",
       " '# user     UNKNOWN\\n',\n",
       " '# \\n',\n",
       " '# SUBJECTS_DIR /out/freesurfer\\n',\n",
       " '# anatomy_type surface\\n',\n",
       " '# subjectname sub-0002\\n',\n",
       " '# hemi lh\\n',\n",
       " '# AnnotationFile ../label/lh.aparc.a2009s.annot\\n',\n",
       " '# AnnotationFileTimeStamp 2019/09/14 20:21:17\\n',\n",
       " '# Measure Cortex, NumVert, Number of Vertices, 126165, unitless\\n',\n",
       " '# Measure Cortex, WhiteSurfArea, White Surface Total Area, 82859.1, mm^2\\n',\n",
       " '# Measure Cortex, MeanThickness, Mean Thickness, 2.61561, mm\\n',\n",
       " '# Measure BrainSeg, BrainSegVol, Brain Segmentation Volume, 1119138.000000, mm^3\\n',\n",
       " '# Measure BrainSegNotVent, BrainSegVolNotVent, Brain Segmentation Volume Without Ventricles, 1109034.000000, mm^3\\n',\n",
       " '# Measure BrainSegNotVentSurf, BrainSegVolNotVentSurf, Brain Segmentation Volume Without Ventricles from Surf, 1108516.089464, mm^3\\n',\n",
       " '# Measure Cortex, CortexVol Total cortical gray matter volume, 482178.173840, mm^3\\n',\n",
       " '# Measure SupraTentorial, SupraTentorialVol, Supratentorial volume, 987853.089464, mm^3\\n',\n",
       " '# Measure SupraTentorialNotVent, SupraTentorialVolNotVent, Supratentorial volume, 980313.089464, mm^3\\n',\n",
       " '# Measure EstimatedTotalIntraCranialVol, eTIV, Estimated Total Intracranial Volume, 1532434.569777, mm^3\\n',\n",
       " '# NTableCols 10\\n',\n",
       " '# TableCol  1 ColHeader StructName\\n',\n",
       " '# TableCol  1 FieldName Structure Name\\n',\n",
       " '# TableCol  1 Units     NA\\n',\n",
       " '# TableCol  2 ColHeader NumVert\\n',\n",
       " '# TableCol  2 FieldName Number of Vertices\\n',\n",
       " '# TableCol  2 Units     unitless\\n',\n",
       " '# TableCol  3 ColHeader SurfArea\\n',\n",
       " '# TableCol  3 FieldName Surface Area\\n',\n",
       " '# TableCol  3 Units     mm^2\\n',\n",
       " '# TableCol  4 ColHeader GrayVol\\n',\n",
       " '# TableCol  4 FieldName Gray Matter Volume\\n',\n",
       " '# TableCol  4 Units     mm^3\\n',\n",
       " '# TableCol  5 ColHeader ThickAvg \\n',\n",
       " '# TableCol  5 FieldName Average Thickness\\n',\n",
       " '# TableCol  5 Units     mm\\n',\n",
       " '# TableCol  6 ColHeader ThickStd\\n',\n",
       " '# TableCol  6 FieldName Thickness StdDev\\n',\n",
       " '# TableCol  6 Units     mm \\n',\n",
       " '# TableCol  7 ColHeader MeanCurv\\n',\n",
       " '# TableCol  7 FieldName Integrated Rectified Mean Curvature\\n',\n",
       " '# TableCol  7 Units     mm^-1\\n',\n",
       " '# TableCol  8 ColHeader GausCurv \\n',\n",
       " '# TableCol  8 FieldName Integrated Rectified Gaussian Curvature\\n',\n",
       " '# TableCol  8 Units     mm^-2\\n',\n",
       " '# TableCol  9 ColHeader  FoldInd\\n',\n",
       " '# TableCol  9 FieldName  Folding Index \\n',\n",
       " '# TableCol  9 Units      unitless \\n',\n",
       " '# TableCol 10 ColHeader CurvInd\\n',\n",
       " '# TableCol 10 FieldName Intrinsic Curvature Index\\n',\n",
       " '# TableCol 10 Units     unitless\\n',\n",
       " '# ColHeaders StructName NumVert SurfArea GrayVol ThickAvg ThickStd MeanCurv GausCurv FoldInd CurvInd\\n',\n",
       " 'G&S_frontomargin                         1627   1087   2899  2.406 0.608     0.139     0.033       24     2.3\\n',\n",
       " 'G&S_occipital_inf                        1211    829   2645  2.614 0.568     0.147     0.030       18     1.4\\n',\n",
       " 'G&S_paracentral                          1463    800   2493  2.476 0.608     0.102     0.021       12     1.3\\n',\n",
       " 'G&S_subcentral                           1627   1034   2902  2.528 0.463     0.121     0.021       18     1.3\\n',\n",
       " 'G&S_transv_frontopol                      715    503   1902  3.012 0.655     0.177     0.054       17     1.4\\n',\n",
       " 'G&S_cingul-Ant                           2175   1467   4679  2.868 0.573     0.124     0.026       30     2.1\\n',\n",
       " 'G&S_cingul-Mid-Ant                       1160    841   2378  2.693 0.457     0.112     0.017       11     0.9\\n',\n",
       " 'G&S_cingul-Mid-Post                      1161    809   2411  2.945 0.573     0.129     0.026       13     1.1\\n',\n",
       " 'G_cingul-Post-dorsal                      589    370   1579  3.207 0.782     0.137     0.037       10     0.7\\n',\n",
       " 'G_cingul-Post-ventral                     337    207    708  2.798 0.696     0.146     0.034        7     0.3\\n',\n",
       " 'G_cuneus                                 2323   1461   2846  1.878 0.514     0.162     0.048       36     4.6\\n',\n",
       " 'G_front_inf-Opercular                    1388    890   3500  2.952 0.446     0.131     0.027       21     1.4\\n',\n",
       " 'G_front_inf-Orbital                       595    354   1340  2.785 0.559     0.132     0.027       11     0.6\\n',\n",
       " 'G_front_inf-Triangul                     1068    679   2611  2.909 0.476     0.144     0.031       18     1.4\\n',\n",
       " 'G_front_middle                           4322   2789  10182  2.802 0.671     0.140     0.030       71     5.3\\n']"
      ]
     },
     "execution_count": 12,
     "metadata": {},
     "output_type": "execute_result"
    }
   ],
   "source": [
    "# look at the output at the end -- it's all there! But I couldn't figure out how to read the data into a table. \n",
    "# If it was Freesurfer, I would've used the aparcstats2table function to create a tsv file\n",
    "first_n_lines "
   ]
  },
  {
   "cell_type": "code",
   "execution_count": null,
   "id": "7f718a3b-1980-4b2b-ae24-dcee707d0460",
   "metadata": {},
   "outputs": [],
   "source": []
  }
 ],
 "metadata": {
  "kernelspec": {
   "display_name": "Python 3 (ipykernel)",
   "language": "python",
   "name": "python3"
  },
  "language_info": {
   "codemirror_mode": {
    "name": "ipython",
    "version": 3
   },
   "file_extension": ".py",
   "mimetype": "text/x-python",
   "name": "python",
   "nbconvert_exporter": "python",
   "pygments_lexer": "ipython3",
   "version": "3.7.12"
  }
 },
 "nbformat": 4,
 "nbformat_minor": 5
}
