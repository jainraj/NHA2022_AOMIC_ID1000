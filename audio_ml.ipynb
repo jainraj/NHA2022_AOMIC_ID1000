{
 "cells": [
  {
   "cell_type": "code",
   "execution_count": 1,
   "id": "dc53d005-eba6-41ac-bbce-9625be89fc59",
   "metadata": {},
   "outputs": [],
   "source": [
    "import numpy as np"
   ]
  },
  {
   "cell_type": "code",
   "execution_count": 2,
   "id": "0f13cff9-647f-40ba-8a82-ef43c314f33c",
   "metadata": {},
   "outputs": [],
   "source": [
    "windowed_cms = np.load('windowed_cms.npy')"
   ]
  },
  {
   "cell_type": "code",
   "execution_count": 3,
   "id": "5f5e4335-3a4d-46cf-bb82-94ab8c7c2ba8",
   "metadata": {},
   "outputs": [
    {
     "data": {
      "text/plain": [
       "(16, 141, 64, 64)"
      ]
     },
     "execution_count": 3,
     "metadata": {},
     "output_type": "execute_result"
    }
   ],
   "source": [
    "windowed_cms.shape"
   ]
  },
  {
   "cell_type": "code",
   "execution_count": 4,
   "id": "aec4387c-4b92-4ea4-973b-3d1be6c7cad6",
   "metadata": {},
   "outputs": [],
   "source": [
    "uppers = []\n",
    "\n",
    "for first in range(windowed_cms.shape[0]):\n",
    "    for second in range(windowed_cms.shape[1]):\n",
    "        one_matrix = windowed_cms[first, second, :, :]\n",
    "        upper = one_matrix[np.triu_indices(one_matrix.shape[0], k=1)]\n",
    "        uppers.append(upper)\n",
    "\n",
    "all_data = np.stack(uppers, axis=0)"
   ]
  },
  {
   "cell_type": "code",
   "execution_count": 6,
   "id": "f9bc664f-4fbf-4bf4-8d2a-d0363c0a178c",
   "metadata": {},
   "outputs": [
    {
     "data": {
      "text/plain": [
       "(2256, 2016)"
      ]
     },
     "execution_count": 6,
     "metadata": {},
     "output_type": "execute_result"
    }
   ],
   "source": [
    "all_data.shape"
   ]
  },
  {
   "cell_type": "code",
   "execution_count": null,
   "id": "4045516c-ca9c-4b92-b1a8-bf74457230f1",
   "metadata": {},
   "outputs": [],
   "source": []
  }
 ],
 "metadata": {
  "kernelspec": {
   "display_name": "Python 3 (ipykernel)",
   "language": "python",
   "name": "python3"
  },
  "language_info": {
   "codemirror_mode": {
    "name": "ipython",
    "version": 3
   },
   "file_extension": ".py",
   "mimetype": "text/x-python",
   "name": "python",
   "nbconvert_exporter": "python",
   "pygments_lexer": "ipython3",
   "version": "3.7.12"
  }
 },
 "nbformat": 4,
 "nbformat_minor": 5
}
